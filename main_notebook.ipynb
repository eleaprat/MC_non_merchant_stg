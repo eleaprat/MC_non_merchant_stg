{
 "cells": [
  {
   "cell_type": "markdown",
   "metadata": {},
   "source": [
    "# Virtual Linking Bids for Market-Clearing with Non-Merchant Storage"
   ]
  },
  {
   "cell_type": "markdown",
   "metadata": {},
   "source": [
    "This is the code for the paper \"Virtual Linking Bids for Market-Clearing with Non-Merchant Storage\". Different types of market clearing setups can be run and compared, including the examples presented in the paper. The code was written for Julia v1.8."
   ]
  },
  {
   "cell_type": "code",
   "execution_count": 1,
   "metadata": {},
   "outputs": [],
   "source": [
    "# Include the relevant packages\n",
    "using CSV, DataFrames\n",
    "using HiGHS"
   ]
  },
  {
   "cell_type": "markdown",
   "metadata": {},
   "source": [
    "The different parameters can be updated in the csv files \"data_gen.csv\" and \"data_load.csv\" and below:"
   ]
  },
  {
   "cell_type": "code",
   "execution_count": 13,
   "metadata": {},
   "outputs": [],
   "source": [
    "## MARKET DATA\n",
    "# Duration of time periods (in hours):\n",
    "∆t = 1\n",
    "\n",
    "## STORAGE DATA\n",
    "# Storage capacity (MWh)\n",
    "E = 2.5 \n",
    "# Initial state of energy (MWh)\n",
    "E_0 = 0.0 \n",
    ";"
   ]
  },
  {
   "cell_type": "code",
   "execution_count": 4,
   "metadata": {},
   "outputs": [
    {
     "data": {
      "text/html": [
       "<div><div style = \"float: left;\"><span>4×5 DataFrame</span></div><div style = \"clear: both;\"></div></div><div class = \"data-frame\" style = \"overflow-x: scroll;\"><table class = \"data-frame\" style = \"margin-bottom: 6px;\"><thead><tr class = \"header\"><th class = \"rowNumber\" style = \"font-weight: bold; text-align: right;\">Row</th><th style = \"text-align: left;\">MI</th><th style = \"text-align: left;\">t</th><th style = \"text-align: left;\">ID</th><th style = \"text-align: left;\">max</th><th style = \"text-align: left;\">cost</th></tr><tr class = \"subheader headerLastRow\"><th class = \"rowNumber\" style = \"font-weight: bold; text-align: right;\"></th><th title = \"Int64\" style = \"text-align: left;\">Int64</th><th title = \"Int64\" style = \"text-align: left;\">Int64</th><th title = \"Int64\" style = \"text-align: left;\">Int64</th><th title = \"Int64\" style = \"text-align: left;\">Int64</th><th title = \"Int64\" style = \"text-align: left;\">Int64</th></tr></thead><tbody><tr><td class = \"rowNumber\" style = \"font-weight: bold; text-align: right;\">1</td><td style = \"text-align: right;\">1</td><td style = \"text-align: right;\">1</td><td style = \"text-align: right;\">1</td><td style = \"text-align: right;\">2</td><td style = \"text-align: right;\">5</td></tr><tr><td class = \"rowNumber\" style = \"font-weight: bold; text-align: right;\">2</td><td style = \"text-align: right;\">1</td><td style = \"text-align: right;\">1</td><td style = \"text-align: right;\">2</td><td style = \"text-align: right;\">2</td><td style = \"text-align: right;\">10</td></tr><tr><td class = \"rowNumber\" style = \"font-weight: bold; text-align: right;\">3</td><td style = \"text-align: right;\">2</td><td style = \"text-align: right;\">1</td><td style = \"text-align: right;\">1</td><td style = \"text-align: right;\">2</td><td style = \"text-align: right;\">2</td></tr><tr><td class = \"rowNumber\" style = \"font-weight: bold; text-align: right;\">4</td><td style = \"text-align: right;\">2</td><td style = \"text-align: right;\">1</td><td style = \"text-align: right;\">2</td><td style = \"text-align: right;\">2</td><td style = \"text-align: right;\">9</td></tr></tbody></table></div>"
      ],
      "text/latex": [
       "\\begin{tabular}{r|ccccc}\n",
       "\t& MI & t & ID & max & cost\\\\\n",
       "\t\\hline\n",
       "\t& Int64 & Int64 & Int64 & Int64 & Int64\\\\\n",
       "\t\\hline\n",
       "\t1 & 1 & 1 & 1 & 2 & 5 \\\\\n",
       "\t2 & 1 & 1 & 2 & 2 & 10 \\\\\n",
       "\t3 & 2 & 1 & 1 & 2 & 2 \\\\\n",
       "\t4 & 2 & 1 & 2 & 2 & 9 \\\\\n",
       "\\end{tabular}\n"
      ],
      "text/plain": [
       "\u001b[1m4×5 DataFrame\u001b[0m\n",
       "\u001b[1m Row \u001b[0m│\u001b[1m MI    \u001b[0m\u001b[1m t     \u001b[0m\u001b[1m ID    \u001b[0m\u001b[1m max   \u001b[0m\u001b[1m cost  \u001b[0m\n",
       "     │\u001b[90m Int64 \u001b[0m\u001b[90m Int64 \u001b[0m\u001b[90m Int64 \u001b[0m\u001b[90m Int64 \u001b[0m\u001b[90m Int64 \u001b[0m\n",
       "─────┼───────────────────────────────────\n",
       "   1 │     1      1      1      2      5\n",
       "   2 │     1      1      2      2     10\n",
       "   3 │     2      1      1      2      2\n",
       "   4 │     2      1      2      2      9"
      ]
     },
     "metadata": {},
     "output_type": "display_data"
    }
   ],
   "source": [
    "# Dataframes are created from the csv files for generators:\n",
    "G_df = CSV.read(\"data_gen.csv\", DataFrame)"
   ]
  },
  {
   "cell_type": "code",
   "execution_count": 5,
   "metadata": {},
   "outputs": [
    {
     "data": {
      "text/html": [
       "<div><div style = \"float: left;\"><span>2×5 DataFrame</span></div><div style = \"clear: both;\"></div></div><div class = \"data-frame\" style = \"overflow-x: scroll;\"><table class = \"data-frame\" style = \"margin-bottom: 6px;\"><thead><tr class = \"header\"><th class = \"rowNumber\" style = \"font-weight: bold; text-align: right;\">Row</th><th style = \"text-align: left;\">MI</th><th style = \"text-align: left;\">t</th><th style = \"text-align: left;\">ID</th><th style = \"text-align: left;\">max</th><th style = \"text-align: left;\">utility</th></tr><tr class = \"subheader headerLastRow\"><th class = \"rowNumber\" style = \"font-weight: bold; text-align: right;\"></th><th title = \"Int64\" style = \"text-align: left;\">Int64</th><th title = \"Int64\" style = \"text-align: left;\">Int64</th><th title = \"Int64\" style = \"text-align: left;\">Int64</th><th title = \"Int64\" style = \"text-align: left;\">Int64</th><th title = \"Int64\" style = \"text-align: left;\">Int64</th></tr></thead><tbody><tr><td class = \"rowNumber\" style = \"font-weight: bold; text-align: right;\">1</td><td style = \"text-align: right;\">1</td><td style = \"text-align: right;\">1</td><td style = \"text-align: right;\">1</td><td style = \"text-align: right;\">0</td><td style = \"text-align: right;\">12</td></tr><tr><td class = \"rowNumber\" style = \"font-weight: bold; text-align: right;\">2</td><td style = \"text-align: right;\">2</td><td style = \"text-align: right;\">1</td><td style = \"text-align: right;\">1</td><td style = \"text-align: right;\">3</td><td style = \"text-align: right;\">12</td></tr></tbody></table></div>"
      ],
      "text/latex": [
       "\\begin{tabular}{r|ccccc}\n",
       "\t& MI & t & ID & max & utility\\\\\n",
       "\t\\hline\n",
       "\t& Int64 & Int64 & Int64 & Int64 & Int64\\\\\n",
       "\t\\hline\n",
       "\t1 & 1 & 1 & 1 & 0 & 12 \\\\\n",
       "\t2 & 2 & 1 & 1 & 3 & 12 \\\\\n",
       "\\end{tabular}\n"
      ],
      "text/plain": [
       "\u001b[1m2×5 DataFrame\u001b[0m\n",
       "\u001b[1m Row \u001b[0m│\u001b[1m MI    \u001b[0m\u001b[1m t     \u001b[0m\u001b[1m ID    \u001b[0m\u001b[1m max   \u001b[0m\u001b[1m utility \u001b[0m\n",
       "     │\u001b[90m Int64 \u001b[0m\u001b[90m Int64 \u001b[0m\u001b[90m Int64 \u001b[0m\u001b[90m Int64 \u001b[0m\u001b[90m Int64   \u001b[0m\n",
       "─────┼─────────────────────────────────────\n",
       "   1 │     1      1      1      0       12\n",
       "   2 │     2      1      1      3       12"
      ]
     },
     "metadata": {},
     "output_type": "display_data"
    }
   ],
   "source": [
    "# And loads:\n",
    "L_df = CSV.read(\"data_load.csv\", DataFrame)"
   ]
  },
  {
   "cell_type": "markdown",
   "metadata": {},
   "source": [
    "## Ideal Market Clearing"
   ]
  },
  {
   "cell_type": "code",
   "execution_count": null,
   "metadata": {},
   "outputs": [],
   "source": [
    "# Set the level for the storage system at the end of the test period:\n",
    "E_final = 0.0\n",
    ";"
   ]
  },
  {
   "cell_type": "code",
   "execution_count": 16,
   "metadata": {},
   "outputs": [
    {
     "name": "stdout",
     "output_type": "stream",
     "text": [
      "SW_tot: 27.0\n",
      "surplus_gen_tot: [6.0, 0.0]\n",
      "surplus_gen_sum_tot: 6.0\n",
      "surplus_load_tot: [21.0]\n",
      "surplus_stg_tot: 0.0\n"
     ]
    },
    {
     "data": {
      "text/html": [
       "<div><div style = \"float: left;\"><span>2×13 DataFrame</span></div><div style = \"clear: both;\"></div></div><div class = \"data-frame\" style = \"overflow-x: scroll;\"><table class = \"data-frame\" style = \"margin-bottom: 6px;\"><thead><tr class = \"header\"><th class = \"rowNumber\" style = \"font-weight: bold; text-align: right;\">Row</th><th style = \"text-align: left;\">Time</th><th style = \"text-align: left;\">Market_Price</th><th style = \"text-align: left;\">C1</th><th style = \"text-align: left;\">p1</th><th style = \"text-align: left;\">P1</th><th style = \"text-align: left;\">C2</th><th style = \"text-align: left;\">p2</th><th style = \"text-align: left;\">P2</th><th style = \"text-align: left;\">U1</th><th style = \"text-align: left;\">d1</th><th style = \"text-align: left;\">D1</th><th style = \"text-align: left;\">p_C</th><th style = \"text-align: left;\">e</th></tr><tr class = \"subheader headerLastRow\"><th class = \"rowNumber\" style = \"font-weight: bold; text-align: right;\"></th><th title = \"Any\" style = \"text-align: left;\">Any</th><th title = \"Any\" style = \"text-align: left;\">Any</th><th title = \"Any\" style = \"text-align: left;\">Any</th><th title = \"Any\" style = \"text-align: left;\">Any</th><th title = \"Any\" style = \"text-align: left;\">Any</th><th title = \"Any\" style = \"text-align: left;\">Any</th><th title = \"Any\" style = \"text-align: left;\">Any</th><th title = \"Any\" style = \"text-align: left;\">Any</th><th title = \"Any\" style = \"text-align: left;\">Any</th><th title = \"Any\" style = \"text-align: left;\">Any</th><th title = \"Any\" style = \"text-align: left;\">Any</th><th title = \"Any\" style = \"text-align: left;\">Any</th><th title = \"Any\" style = \"text-align: left;\">Any</th></tr></thead><tbody><tr><td class = \"rowNumber\" style = \"font-weight: bold; text-align: right;\">1</td><td style = \"text-align: left;\">1.0</td><td style = \"text-align: left;\">5.0</td><td style = \"text-align: left;\">5.0</td><td style = \"text-align: left;\">1.0</td><td style = \"text-align: left;\">2.0</td><td style = \"text-align: left;\">10.0</td><td style = \"text-align: left;\">0.0</td><td style = \"text-align: left;\">2.0</td><td style = \"text-align: left;\">12.0</td><td style = \"text-align: left;\">-0.0</td><td style = \"text-align: left;\">0.0</td><td style = \"text-align: left;\">1.0</td><td style = \"text-align: left;\">1.0</td></tr><tr><td class = \"rowNumber\" style = \"font-weight: bold; text-align: right;\">2</td><td style = \"text-align: left;\">2.0</td><td style = \"text-align: left;\">5.0</td><td style = \"text-align: left;\">2.0</td><td style = \"text-align: left;\">2.0</td><td style = \"text-align: left;\">2.0</td><td style = \"text-align: left;\">9.0</td><td style = \"text-align: left;\">0.0</td><td style = \"text-align: left;\">2.0</td><td style = \"text-align: left;\">12.0</td><td style = \"text-align: left;\">3.0</td><td style = \"text-align: left;\">3.0</td><td style = \"text-align: left;\">-1.0</td><td style = \"text-align: left;\">0.0</td></tr></tbody></table></div>"
      ],
      "text/latex": [
       "\\begin{tabular}{r|ccccccccccccc}\n",
       "\t& Time & Market\\_Price & C1 & p1 & P1 & C2 & p2 & P2 & U1 & d1 & D1 & p\\_C & e\\\\\n",
       "\t\\hline\n",
       "\t& Any & Any & Any & Any & Any & Any & Any & Any & Any & Any & Any & Any & Any\\\\\n",
       "\t\\hline\n",
       "\t1 & 1.0 & 5.0 & 5.0 & 1.0 & 2.0 & 10.0 & 0.0 & 2.0 & 12.0 & -0.0 & 0.0 & 1.0 & 1.0 \\\\\n",
       "\t2 & 2.0 & 5.0 & 2.0 & 2.0 & 2.0 & 9.0 & 0.0 & 2.0 & 12.0 & 3.0 & 3.0 & -1.0 & 0.0 \\\\\n",
       "\\end{tabular}\n"
      ],
      "text/plain": [
       "\u001b[1m2×13 DataFrame\u001b[0m\n",
       "\u001b[1m Row \u001b[0m│\u001b[1m Time \u001b[0m\u001b[1m Market_Price \u001b[0m\u001b[1m C1  \u001b[0m\u001b[1m p1  \u001b[0m\u001b[1m P1  \u001b[0m\u001b[1m C2   \u001b[0m\u001b[1m p2  \u001b[0m\u001b[1m P2  \u001b[0m\u001b[1m U1   \u001b[0m\u001b[1m d1   \u001b[0m\u001b[1m D1  \u001b[0m\u001b[1m p_C\u001b[0m ⋯\n",
       "     │\u001b[90m Any  \u001b[0m\u001b[90m Any          \u001b[0m\u001b[90m Any \u001b[0m\u001b[90m Any \u001b[0m\u001b[90m Any \u001b[0m\u001b[90m Any  \u001b[0m\u001b[90m Any \u001b[0m\u001b[90m Any \u001b[0m\u001b[90m Any  \u001b[0m\u001b[90m Any  \u001b[0m\u001b[90m Any \u001b[0m\u001b[90m Any\u001b[0m ⋯\n",
       "─────┼──────────────────────────────────────────────────────────────────────────\n",
       "   1 │ 1.0   5.0           5.0  1.0  2.0  10.0  0.0  2.0  12.0  -0.0  0.0  1.0 ⋯\n",
       "   2 │ 2.0   5.0           2.0  2.0  2.0  9.0   0.0  2.0  12.0  3.0   3.0  -1.\n",
       "\u001b[36m                                                               2 columns omitted\u001b[0m"
      ]
     },
     "metadata": {},
     "output_type": "display_data"
    }
   ],
   "source": [
    "# Run the market clearing\n",
    "include.((\"fct_perfect.jl\",\"fct_mc_all.jl\",\"fct_data_all.jl\"))\n",
    "df_MCP = perfect(∆t, E, E_0, E_final, G_df, L_df)"
   ]
  },
  {
   "cell_type": "markdown",
   "metadata": {},
   "source": [
    "## Split Market Clearing with Level"
   ]
  },
  {
   "cell_type": "code",
   "execution_count": 18,
   "metadata": {},
   "outputs": [],
   "source": [
    "# Set the level for the storage system at the end of each market interval:\n",
    "E_end = [1.0, 0.0]\n",
    ";"
   ]
  },
  {
   "cell_type": "code",
   "execution_count": 25,
   "metadata": {},
   "outputs": [
    {
     "name": "stdout",
     "output_type": "stream",
     "text": [
      "SW_tot: 27.0\n",
      "surplus_gen_tot: [0.0, 0.0]\n",
      "surplus_gen_sum_tot: 0.0\n",
      "surplus_load_tot: [30.0]\n",
      "surplus_stg_tot: -3.0\n"
     ]
    },
    {
     "data": {
      "text/html": [
       "<div><div style = \"float: left;\"><span>2×13 DataFrame</span></div><div style = \"clear: both;\"></div></div><div class = \"data-frame\" style = \"overflow-x: scroll;\"><table class = \"data-frame\" style = \"margin-bottom: 6px;\"><thead><tr class = \"header\"><th class = \"rowNumber\" style = \"font-weight: bold; text-align: right;\">Row</th><th style = \"text-align: left;\">Time</th><th style = \"text-align: left;\">Market_Price</th><th style = \"text-align: left;\">C1</th><th style = \"text-align: left;\">p1</th><th style = \"text-align: left;\">P1</th><th style = \"text-align: left;\">C2</th><th style = \"text-align: left;\">p2</th><th style = \"text-align: left;\">P2</th><th style = \"text-align: left;\">U1</th><th style = \"text-align: left;\">d1</th><th style = \"text-align: left;\">D1</th><th style = \"text-align: left;\">p_C</th><th style = \"text-align: left;\">e</th></tr><tr class = \"subheader headerLastRow\"><th class = \"rowNumber\" style = \"font-weight: bold; text-align: right;\"></th><th title = \"Any\" style = \"text-align: left;\">Any</th><th title = \"Any\" style = \"text-align: left;\">Any</th><th title = \"Any\" style = \"text-align: left;\">Any</th><th title = \"Any\" style = \"text-align: left;\">Any</th><th title = \"Any\" style = \"text-align: left;\">Any</th><th title = \"Any\" style = \"text-align: left;\">Any</th><th title = \"Any\" style = \"text-align: left;\">Any</th><th title = \"Any\" style = \"text-align: left;\">Any</th><th title = \"Any\" style = \"text-align: left;\">Any</th><th title = \"Any\" style = \"text-align: left;\">Any</th><th title = \"Any\" style = \"text-align: left;\">Any</th><th title = \"Any\" style = \"text-align: left;\">Any</th><th title = \"Any\" style = \"text-align: left;\">Any</th></tr></thead><tbody><tr><td class = \"rowNumber\" style = \"font-weight: bold; text-align: right;\">1</td><td style = \"text-align: left;\">1.0</td><td style = \"text-align: left;\">5.0</td><td style = \"text-align: left;\">5.0</td><td style = \"text-align: left;\">1.0</td><td style = \"text-align: left;\">2.0</td><td style = \"text-align: left;\">10.0</td><td style = \"text-align: left;\">0.0</td><td style = \"text-align: left;\">2.0</td><td style = \"text-align: left;\">12.0</td><td style = \"text-align: left;\">-0.0</td><td style = \"text-align: left;\">0.0</td><td style = \"text-align: left;\">1.0</td><td style = \"text-align: left;\">1.0</td></tr><tr><td class = \"rowNumber\" style = \"font-weight: bold; text-align: right;\">2</td><td style = \"text-align: left;\">2.0</td><td style = \"text-align: left;\">2.0</td><td style = \"text-align: left;\">2.0</td><td style = \"text-align: left;\">2.0</td><td style = \"text-align: left;\">2.0</td><td style = \"text-align: left;\">9.0</td><td style = \"text-align: left;\">0.0</td><td style = \"text-align: left;\">2.0</td><td style = \"text-align: left;\">12.0</td><td style = \"text-align: left;\">3.0</td><td style = \"text-align: left;\">3.0</td><td style = \"text-align: left;\">-1.0</td><td style = \"text-align: left;\">0.0</td></tr></tbody></table></div>"
      ],
      "text/latex": [
       "\\begin{tabular}{r|ccccccccccccc}\n",
       "\t& Time & Market\\_Price & C1 & p1 & P1 & C2 & p2 & P2 & U1 & d1 & D1 & p\\_C & e\\\\\n",
       "\t\\hline\n",
       "\t& Any & Any & Any & Any & Any & Any & Any & Any & Any & Any & Any & Any & Any\\\\\n",
       "\t\\hline\n",
       "\t1 & 1.0 & 5.0 & 5.0 & 1.0 & 2.0 & 10.0 & 0.0 & 2.0 & 12.0 & -0.0 & 0.0 & 1.0 & 1.0 \\\\\n",
       "\t2 & 2.0 & 2.0 & 2.0 & 2.0 & 2.0 & 9.0 & 0.0 & 2.0 & 12.0 & 3.0 & 3.0 & -1.0 & 0.0 \\\\\n",
       "\\end{tabular}\n"
      ],
      "text/plain": [
       "\u001b[1m2×13 DataFrame\u001b[0m\n",
       "\u001b[1m Row \u001b[0m│\u001b[1m Time \u001b[0m\u001b[1m Market_Price \u001b[0m\u001b[1m C1  \u001b[0m\u001b[1m p1  \u001b[0m\u001b[1m P1  \u001b[0m\u001b[1m C2   \u001b[0m\u001b[1m p2  \u001b[0m\u001b[1m P2  \u001b[0m\u001b[1m U1   \u001b[0m\u001b[1m d1   \u001b[0m\u001b[1m D1  \u001b[0m\u001b[1m p_C\u001b[0m ⋯\n",
       "     │\u001b[90m Any  \u001b[0m\u001b[90m Any          \u001b[0m\u001b[90m Any \u001b[0m\u001b[90m Any \u001b[0m\u001b[90m Any \u001b[0m\u001b[90m Any  \u001b[0m\u001b[90m Any \u001b[0m\u001b[90m Any \u001b[0m\u001b[90m Any  \u001b[0m\u001b[90m Any  \u001b[0m\u001b[90m Any \u001b[0m\u001b[90m Any\u001b[0m ⋯\n",
       "─────┼──────────────────────────────────────────────────────────────────────────\n",
       "   1 │ 1.0   5.0           5.0  1.0  2.0  10.0  0.0  2.0  12.0  -0.0  0.0  1.0 ⋯\n",
       "   2 │ 2.0   2.0           2.0  2.0  2.0  9.0   0.0  2.0  12.0  3.0   3.0  -1.\n",
       "\u001b[36m                                                               2 columns omitted\u001b[0m"
      ]
     },
     "metadata": {},
     "output_type": "display_data"
    }
   ],
   "source": [
    "# Run the market clearing\n",
    "include.((\"fct_split.jl\",\"fct_mc_all.jl\",\"fct_data_all.jl\"))\n",
    "S_end = zeros(maximum(G_df.MI)) # Set the penalty to zero (no penalty)\n",
    "df_MCS = split(∆t, E, E_0, G_df, L_df, E_end, S_end)"
   ]
  },
  {
   "cell_type": "markdown",
   "metadata": {},
   "source": [
    "## Split Market Clearing with Penalty"
   ]
  },
  {
   "cell_type": "code",
   "execution_count": 26,
   "metadata": {},
   "outputs": [],
   "source": [
    "# Set the penalty for the storage system at the end of each market interval:\n",
    "S_end = [2, 0]\n",
    ";"
   ]
  },
  {
   "cell_type": "code",
   "execution_count": 27,
   "metadata": {},
   "outputs": [
    {
     "name": "stdout",
     "output_type": "stream",
     "text": [
      "SW_tot: 23.0\n",
      "surplus_gen_tot: [14.0, 0.0]\n",
      "surplus_gen_sum_tot: 14.0\n",
      "surplus_load_tot: [9.0]\n",
      "surplus_stg_tot: 0.0\n"
     ]
    },
    {
     "data": {
      "text/html": [
       "<div><div style = \"float: left;\"><span>2×13 DataFrame</span></div><div style = \"clear: both;\"></div></div><div class = \"data-frame\" style = \"overflow-x: scroll;\"><table class = \"data-frame\" style = \"margin-bottom: 6px;\"><thead><tr class = \"header\"><th class = \"rowNumber\" style = \"font-weight: bold; text-align: right;\">Row</th><th style = \"text-align: left;\">Time</th><th style = \"text-align: left;\">Market_Price</th><th style = \"text-align: left;\">C1</th><th style = \"text-align: left;\">p1</th><th style = \"text-align: left;\">P1</th><th style = \"text-align: left;\">C2</th><th style = \"text-align: left;\">p2</th><th style = \"text-align: left;\">P2</th><th style = \"text-align: left;\">U1</th><th style = \"text-align: left;\">d1</th><th style = \"text-align: left;\">D1</th><th style = \"text-align: left;\">p_C</th><th style = \"text-align: left;\">e</th></tr><tr class = \"subheader headerLastRow\"><th class = \"rowNumber\" style = \"font-weight: bold; text-align: right;\"></th><th title = \"Any\" style = \"text-align: left;\">Any</th><th title = \"Any\" style = \"text-align: left;\">Any</th><th title = \"Any\" style = \"text-align: left;\">Any</th><th title = \"Any\" style = \"text-align: left;\">Any</th><th title = \"Any\" style = \"text-align: left;\">Any</th><th title = \"Any\" style = \"text-align: left;\">Any</th><th title = \"Any\" style = \"text-align: left;\">Any</th><th title = \"Any\" style = \"text-align: left;\">Any</th><th title = \"Any\" style = \"text-align: left;\">Any</th><th title = \"Any\" style = \"text-align: left;\">Any</th><th title = \"Any\" style = \"text-align: left;\">Any</th><th title = \"Any\" style = \"text-align: left;\">Any</th><th title = \"Any\" style = \"text-align: left;\">Any</th></tr></thead><tbody><tr><td class = \"rowNumber\" style = \"font-weight: bold; text-align: right;\">1</td><td style = \"text-align: left;\">1.0</td><td style = \"text-align: left;\">0.0</td><td style = \"text-align: left;\">5.0</td><td style = \"text-align: left;\">0.0</td><td style = \"text-align: left;\">2.0</td><td style = \"text-align: left;\">10.0</td><td style = \"text-align: left;\">0.0</td><td style = \"text-align: left;\">2.0</td><td style = \"text-align: left;\">12.0</td><td style = \"text-align: left;\">-0.0</td><td style = \"text-align: left;\">0.0</td><td style = \"text-align: left;\">-0.0</td><td style = \"text-align: left;\">0.0</td></tr><tr><td class = \"rowNumber\" style = \"font-weight: bold; text-align: right;\">2</td><td style = \"text-align: left;\">2.0</td><td style = \"text-align: left;\">9.0</td><td style = \"text-align: left;\">2.0</td><td style = \"text-align: left;\">2.0</td><td style = \"text-align: left;\">2.0</td><td style = \"text-align: left;\">9.0</td><td style = \"text-align: left;\">1.0</td><td style = \"text-align: left;\">2.0</td><td style = \"text-align: left;\">12.0</td><td style = \"text-align: left;\">3.0</td><td style = \"text-align: left;\">3.0</td><td style = \"text-align: left;\">-0.0</td><td style = \"text-align: left;\">0.0</td></tr></tbody></table></div>"
      ],
      "text/latex": [
       "\\begin{tabular}{r|ccccccccccccc}\n",
       "\t& Time & Market\\_Price & C1 & p1 & P1 & C2 & p2 & P2 & U1 & d1 & D1 & p\\_C & e\\\\\n",
       "\t\\hline\n",
       "\t& Any & Any & Any & Any & Any & Any & Any & Any & Any & Any & Any & Any & Any\\\\\n",
       "\t\\hline\n",
       "\t1 & 1.0 & 0.0 & 5.0 & 0.0 & 2.0 & 10.0 & 0.0 & 2.0 & 12.0 & -0.0 & 0.0 & -0.0 & 0.0 \\\\\n",
       "\t2 & 2.0 & 9.0 & 2.0 & 2.0 & 2.0 & 9.0 & 1.0 & 2.0 & 12.0 & 3.0 & 3.0 & -0.0 & 0.0 \\\\\n",
       "\\end{tabular}\n"
      ],
      "text/plain": [
       "\u001b[1m2×13 DataFrame\u001b[0m\n",
       "\u001b[1m Row \u001b[0m│\u001b[1m Time \u001b[0m\u001b[1m Market_Price \u001b[0m\u001b[1m C1  \u001b[0m\u001b[1m p1  \u001b[0m\u001b[1m P1  \u001b[0m\u001b[1m C2   \u001b[0m\u001b[1m p2  \u001b[0m\u001b[1m P2  \u001b[0m\u001b[1m U1   \u001b[0m\u001b[1m d1   \u001b[0m\u001b[1m D1  \u001b[0m\u001b[1m p_C\u001b[0m ⋯\n",
       "     │\u001b[90m Any  \u001b[0m\u001b[90m Any          \u001b[0m\u001b[90m Any \u001b[0m\u001b[90m Any \u001b[0m\u001b[90m Any \u001b[0m\u001b[90m Any  \u001b[0m\u001b[90m Any \u001b[0m\u001b[90m Any \u001b[0m\u001b[90m Any  \u001b[0m\u001b[90m Any  \u001b[0m\u001b[90m Any \u001b[0m\u001b[90m Any\u001b[0m ⋯\n",
       "─────┼──────────────────────────────────────────────────────────────────────────\n",
       "   1 │ 1.0   0.0           5.0  0.0  2.0  10.0  0.0  2.0  12.0  -0.0  0.0  -0. ⋯\n",
       "   2 │ 2.0   9.0           2.0  2.0  2.0  9.0   1.0  2.0  12.0  3.0   3.0  -0.\n",
       "\u001b[36m                                                               2 columns omitted\u001b[0m"
      ]
     },
     "metadata": {},
     "output_type": "display_data"
    }
   ],
   "source": [
    "# Run the market clearing\n",
    "include.((\"fct_split.jl\",\"fct_mc_all.jl\",\"fct_data_all.jl\"))\n",
    "E_end = zeros(maximum(G_df.MI)) # Set the penalty to zero (no penalty)\n",
    "df_MCS = split(∆t, E, E_0, G_df, L_df, E_end, S_end)"
   ]
  },
  {
   "cell_type": "markdown",
   "metadata": {},
   "source": [
    "## Market Clearing with Virtual Linking Bids"
   ]
  },
  {
   "cell_type": "code",
   "execution_count": 32,
   "metadata": {},
   "outputs": [],
   "source": [
    "# Set the level for the storage system at the end of each market interval:\n",
    "E_end = [1.0, 0.0]\n",
    "# Set a discount between 0 and 1 for the value of the stored energy (0: no discount)\n",
    "discount = 0\n",
    ";"
   ]
  },
  {
   "cell_type": "code",
   "execution_count": 34,
   "metadata": {},
   "outputs": [
    {
     "name": "stdout",
     "output_type": "stream",
     "text": [
      "SW_tot: 27.0\n",
      "surplus_gen_tot: [6.0, 0.0]\n",
      "surplus_gen_sum_tot: 6.0\n",
      "surplus_load_tot: [21.0]\n",
      "surplus_stg_tot: 0.0\n",
      "\n",
      "S: [0.0]\n",
      "E_init: [0.0]\n"
     ]
    },
    {
     "data": {
      "text/html": [
       "<div><div style = \"float: left;\"><span>2×15 DataFrame</span></div><div style = \"clear: both;\"></div></div><div class = \"data-frame\" style = \"overflow-x: scroll;\"><table class = \"data-frame\" style = \"margin-bottom: 6px;\"><thead><tr class = \"header\"><th class = \"rowNumber\" style = \"font-weight: bold; text-align: right;\">Row</th><th style = \"text-align: left;\">Time</th><th style = \"text-align: left;\">Market_Price</th><th style = \"text-align: left;\">C1</th><th style = \"text-align: left;\">p1</th><th style = \"text-align: left;\">P1</th><th style = \"text-align: left;\">C2</th><th style = \"text-align: left;\">p2</th><th style = \"text-align: left;\">P2</th><th style = \"text-align: left;\">U1</th><th style = \"text-align: left;\">d1</th><th style = \"text-align: left;\">D1</th><th style = \"text-align: left;\">p_C_intra</th><th style = \"text-align: left;\">e_intra</th><th style = \"text-align: left;\">p_D_inter</th><th style = \"text-align: left;\">e_inter</th></tr><tr class = \"subheader headerLastRow\"><th class = \"rowNumber\" style = \"font-weight: bold; text-align: right;\"></th><th title = \"Any\" style = \"text-align: left;\">Any</th><th title = \"Any\" style = \"text-align: left;\">Any</th><th title = \"Any\" style = \"text-align: left;\">Any</th><th title = \"Any\" style = \"text-align: left;\">Any</th><th title = \"Any\" style = \"text-align: left;\">Any</th><th title = \"Any\" style = \"text-align: left;\">Any</th><th title = \"Any\" style = \"text-align: left;\">Any</th><th title = \"Any\" style = \"text-align: left;\">Any</th><th title = \"Any\" style = \"text-align: left;\">Any</th><th title = \"Any\" style = \"text-align: left;\">Any</th><th title = \"Any\" style = \"text-align: left;\">Any</th><th title = \"Any\" style = \"text-align: left;\">Any</th><th title = \"Any\" style = \"text-align: left;\">Any</th><th title = \"Any\" style = \"text-align: left;\">Any</th><th title = \"Any\" style = \"text-align: left;\">Any</th></tr></thead><tbody><tr><td class = \"rowNumber\" style = \"font-weight: bold; text-align: right;\">1</td><td style = \"text-align: left;\">1.0</td><td style = \"text-align: left;\">5.0</td><td style = \"text-align: left;\">5.0</td><td style = \"text-align: left;\">1.0</td><td style = \"text-align: left;\">2.0</td><td style = \"text-align: left;\">10.0</td><td style = \"text-align: left;\">0.0</td><td style = \"text-align: left;\">2.0</td><td style = \"text-align: left;\">12.0</td><td style = \"text-align: left;\">-0.0</td><td style = \"text-align: left;\">0.0</td><td style = \"text-align: left;\">1.0</td><td style = \"text-align: left;\">1.0</td><td style = \"text-align: left;\">-0.0</td><td style = \"text-align: left;\">0.0</td></tr><tr><td class = \"rowNumber\" style = \"font-weight: bold; text-align: right;\">2</td><td style = \"text-align: left;\">2.0</td><td style = \"text-align: left;\">5.0</td><td style = \"text-align: left;\">2.0</td><td style = \"text-align: left;\">2.0</td><td style = \"text-align: left;\">2.0</td><td style = \"text-align: left;\">9.0</td><td style = \"text-align: left;\">0.0</td><td style = \"text-align: left;\">2.0</td><td style = \"text-align: left;\">12.0</td><td style = \"text-align: left;\">3.0</td><td style = \"text-align: left;\">3.0</td><td style = \"text-align: left;\">-0.0</td><td style = \"text-align: left;\">-0.0</td><td style = \"text-align: left;\">1.0</td><td style = \"text-align: left;\">-0.0</td></tr></tbody></table></div>"
      ],
      "text/latex": [
       "\\begin{tabular}{r|cccccccccccccc}\n",
       "\t& Time & Market\\_Price & C1 & p1 & P1 & C2 & p2 & P2 & U1 & d1 & D1 & p\\_C\\_intra & e\\_intra & \\\\\n",
       "\t\\hline\n",
       "\t& Any & Any & Any & Any & Any & Any & Any & Any & Any & Any & Any & Any & Any & \\\\\n",
       "\t\\hline\n",
       "\t1 & 1.0 & 5.0 & 5.0 & 1.0 & 2.0 & 10.0 & 0.0 & 2.0 & 12.0 & -0.0 & 0.0 & 1.0 & 1.0 & $\\dots$ \\\\\n",
       "\t2 & 2.0 & 5.0 & 2.0 & 2.0 & 2.0 & 9.0 & 0.0 & 2.0 & 12.0 & 3.0 & 3.0 & -0.0 & -0.0 & $\\dots$ \\\\\n",
       "\\end{tabular}\n"
      ],
      "text/plain": [
       "\u001b[1m2×15 DataFrame\u001b[0m\n",
       "\u001b[1m Row \u001b[0m│\u001b[1m Time \u001b[0m\u001b[1m Market_Price \u001b[0m\u001b[1m C1  \u001b[0m\u001b[1m p1  \u001b[0m\u001b[1m P1  \u001b[0m\u001b[1m C2   \u001b[0m\u001b[1m p2  \u001b[0m\u001b[1m P2  \u001b[0m\u001b[1m U1   \u001b[0m\u001b[1m d1   \u001b[0m\u001b[1m D1  \u001b[0m\u001b[1m p_C\u001b[0m ⋯\n",
       "     │\u001b[90m Any  \u001b[0m\u001b[90m Any          \u001b[0m\u001b[90m Any \u001b[0m\u001b[90m Any \u001b[0m\u001b[90m Any \u001b[0m\u001b[90m Any  \u001b[0m\u001b[90m Any \u001b[0m\u001b[90m Any \u001b[0m\u001b[90m Any  \u001b[0m\u001b[90m Any  \u001b[0m\u001b[90m Any \u001b[0m\u001b[90m Any\u001b[0m ⋯\n",
       "─────┼──────────────────────────────────────────────────────────────────────────\n",
       "   1 │ 1.0   5.0           5.0  1.0  2.0  10.0  0.0  2.0  12.0  -0.0  0.0  1.0 ⋯\n",
       "   2 │ 2.0   5.0           2.0  2.0  2.0  9.0   0.0  2.0  12.0  3.0   3.0  -0.\n",
       "\u001b[36m                                                               4 columns omitted\u001b[0m"
      ]
     },
     "metadata": {},
     "output_type": "display_data"
    }
   ],
   "source": [
    "# Version with solution multiplicity\n",
    "include.((\"fct_vlb.jl\",\"fct_mc_vlb.jl\",\"fct_stor_val_update.jl\",\"fct_data_all.jl\"))\n",
    "df_VLB = VLB_no_bin(∆t, E, G_df, L_df, E_end, discount)"
   ]
  },
  {
   "cell_type": "code",
   "execution_count": 39,
   "metadata": {},
   "outputs": [
    {
     "name": "stdout",
     "output_type": "stream",
     "text": [
      "SW_tot: 27.0\n",
      "surplus_gen_tot: [6.0, 0.0]\n",
      "surplus_gen_sum_tot: 6.0\n",
      "surplus_load_tot: [21.0]\n",
      "surplus_stg_tot: 0.0\n",
      "\n",
      "In the inter-storage at the end of the test period: \n",
      "S: [0.0]\n",
      "E_init: [0.0]\n"
     ]
    },
    {
     "data": {
      "text/html": [
       "<div><div style = \"float: left;\"><span>2×15 DataFrame</span></div><div style = \"clear: both;\"></div></div><div class = \"data-frame\" style = \"overflow-x: scroll;\"><table class = \"data-frame\" style = \"margin-bottom: 6px;\"><thead><tr class = \"header\"><th class = \"rowNumber\" style = \"font-weight: bold; text-align: right;\">Row</th><th style = \"text-align: left;\">Time</th><th style = \"text-align: left;\">Market_Price</th><th style = \"text-align: left;\">C1</th><th style = \"text-align: left;\">p1</th><th style = \"text-align: left;\">P1</th><th style = \"text-align: left;\">C2</th><th style = \"text-align: left;\">p2</th><th style = \"text-align: left;\">P2</th><th style = \"text-align: left;\">U1</th><th style = \"text-align: left;\">d1</th><th style = \"text-align: left;\">D1</th><th style = \"text-align: left;\">p_C_intra</th><th style = \"text-align: left;\">e_intra</th><th style = \"text-align: left;\">p_D_inter</th><th style = \"text-align: left;\">e_inter</th></tr><tr class = \"subheader headerLastRow\"><th class = \"rowNumber\" style = \"font-weight: bold; text-align: right;\"></th><th title = \"Any\" style = \"text-align: left;\">Any</th><th title = \"Any\" style = \"text-align: left;\">Any</th><th title = \"Any\" style = \"text-align: left;\">Any</th><th title = \"Any\" style = \"text-align: left;\">Any</th><th title = \"Any\" style = \"text-align: left;\">Any</th><th title = \"Any\" style = \"text-align: left;\">Any</th><th title = \"Any\" style = \"text-align: left;\">Any</th><th title = \"Any\" style = \"text-align: left;\">Any</th><th title = \"Any\" style = \"text-align: left;\">Any</th><th title = \"Any\" style = \"text-align: left;\">Any</th><th title = \"Any\" style = \"text-align: left;\">Any</th><th title = \"Any\" style = \"text-align: left;\">Any</th><th title = \"Any\" style = \"text-align: left;\">Any</th><th title = \"Any\" style = \"text-align: left;\">Any</th><th title = \"Any\" style = \"text-align: left;\">Any</th></tr></thead><tbody><tr><td class = \"rowNumber\" style = \"font-weight: bold; text-align: right;\">1</td><td style = \"text-align: left;\">1.0</td><td style = \"text-align: left;\">5.0</td><td style = \"text-align: left;\">5.0</td><td style = \"text-align: left;\">1.0</td><td style = \"text-align: left;\">2.0</td><td style = \"text-align: left;\">10.0</td><td style = \"text-align: left;\">0.0</td><td style = \"text-align: left;\">2.0</td><td style = \"text-align: left;\">12.0</td><td style = \"text-align: left;\">-0.0</td><td style = \"text-align: left;\">0.0</td><td style = \"text-align: left;\">1.0</td><td style = \"text-align: left;\">1.0</td><td style = \"text-align: left;\">-0.0</td><td style = \"text-align: left;\">0.0</td></tr><tr><td class = \"rowNumber\" style = \"font-weight: bold; text-align: right;\">2</td><td style = \"text-align: left;\">2.0</td><td style = \"text-align: left;\">5.0</td><td style = \"text-align: left;\">2.0</td><td style = \"text-align: left;\">2.0</td><td style = \"text-align: left;\">2.0</td><td style = \"text-align: left;\">9.0</td><td style = \"text-align: left;\">0.0</td><td style = \"text-align: left;\">2.0</td><td style = \"text-align: left;\">12.0</td><td style = \"text-align: left;\">3.0</td><td style = \"text-align: left;\">3.0</td><td style = \"text-align: left;\">-0.0</td><td style = \"text-align: left;\">-0.0</td><td style = \"text-align: left;\">1.0</td><td style = \"text-align: left;\">-0.0</td></tr></tbody></table></div>"
      ],
      "text/latex": [
       "\\begin{tabular}{r|cccccccccccccc}\n",
       "\t& Time & Market\\_Price & C1 & p1 & P1 & C2 & p2 & P2 & U1 & d1 & D1 & p\\_C\\_intra & e\\_intra & \\\\\n",
       "\t\\hline\n",
       "\t& Any & Any & Any & Any & Any & Any & Any & Any & Any & Any & Any & Any & Any & \\\\\n",
       "\t\\hline\n",
       "\t1 & 1.0 & 5.0 & 5.0 & 1.0 & 2.0 & 10.0 & 0.0 & 2.0 & 12.0 & -0.0 & 0.0 & 1.0 & 1.0 & $\\dots$ \\\\\n",
       "\t2 & 2.0 & 5.0 & 2.0 & 2.0 & 2.0 & 9.0 & 0.0 & 2.0 & 12.0 & 3.0 & 3.0 & -0.0 & -0.0 & $\\dots$ \\\\\n",
       "\\end{tabular}\n"
      ],
      "text/plain": [
       "\u001b[1m2×15 DataFrame\u001b[0m\n",
       "\u001b[1m Row \u001b[0m│\u001b[1m Time \u001b[0m\u001b[1m Market_Price \u001b[0m\u001b[1m C1  \u001b[0m\u001b[1m p1  \u001b[0m\u001b[1m P1  \u001b[0m\u001b[1m C2   \u001b[0m\u001b[1m p2  \u001b[0m\u001b[1m P2  \u001b[0m\u001b[1m U1   \u001b[0m\u001b[1m d1   \u001b[0m\u001b[1m D1  \u001b[0m\u001b[1m p_C\u001b[0m ⋯\n",
       "     │\u001b[90m Any  \u001b[0m\u001b[90m Any          \u001b[0m\u001b[90m Any \u001b[0m\u001b[90m Any \u001b[0m\u001b[90m Any \u001b[0m\u001b[90m Any  \u001b[0m\u001b[90m Any \u001b[0m\u001b[90m Any \u001b[0m\u001b[90m Any  \u001b[0m\u001b[90m Any  \u001b[0m\u001b[90m Any \u001b[0m\u001b[90m Any\u001b[0m ⋯\n",
       "─────┼──────────────────────────────────────────────────────────────────────────\n",
       "   1 │ 1.0   5.0           5.0  1.0  2.0  10.0  0.0  2.0  12.0  -0.0  0.0  1.0 ⋯\n",
       "   2 │ 2.0   5.0           2.0  2.0  2.0  9.0   0.0  2.0  12.0  3.0   3.0  -0.\n",
       "\u001b[36m                                                               4 columns omitted\u001b[0m"
      ]
     },
     "metadata": {},
     "output_type": "display_data"
    }
   ],
   "source": [
    "# Version without solution multiplicity (binary variables)\n",
    "include.((\"fct_vlb_bin.jl\",\"fct_mc_vlb_bin.jl\",\"fct_mc_vlb_no_bin.jl\",\"fct_stor_val_update.jl\",\"fct_data_all.jl\"))\n",
    "df_VLB_bin = VLB_bin(∆t, E, G_df, L_df, E_end, discount)"
   ]
  }
 ],
 "metadata": {
  "kernelspec": {
   "display_name": "Julia 1.8.5",
   "language": "julia",
   "name": "julia-1.8"
  },
  "language_info": {
   "file_extension": ".jl",
   "mimetype": "application/julia",
   "name": "julia",
   "version": "1.8.5"
  },
  "orig_nbformat": 4
 },
 "nbformat": 4,
 "nbformat_minor": 2
}
