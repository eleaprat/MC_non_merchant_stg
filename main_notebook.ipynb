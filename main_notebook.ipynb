{
 "cells": [
  {
   "cell_type": "markdown",
   "metadata": {},
   "source": [
    "# Virtual Linking Bids for Market-Clearing with Non-Merchant Storage"
   ]
  },
  {
   "cell_type": "markdown",
   "metadata": {},
   "source": [
    "This is the code for the paper \"Virtual Linking Bids for Market-Clearing with Non-Merchant Storage\". Different types of market clearing setups can be run and compared, including the examples presented in the paper. The code was written for Julia v1.11."
   ]
  },
  {
   "cell_type": "code",
   "execution_count": 1,
   "metadata": {},
   "outputs": [],
   "source": [
    "# Include the relevant packages\n",
    "using CSV, DataFrames\n",
    "using JuMP, HiGHS"
   ]
  },
  {
   "cell_type": "markdown",
   "metadata": {},
   "source": [
    "The different parameters can be updated in the csv files \"data_gen.csv\" and \"data_load.csv\" and below:"
   ]
  },
  {
   "cell_type": "code",
   "execution_count": 2,
   "metadata": {},
   "outputs": [],
   "source": [
    "## MARKET DATA\n",
    "# Duration of time periods (in hours):\n",
    "∆t = 1\n",
    "\n",
    "## STORAGE DATA\n",
    "# Storage capacity (MWh)\n",
    "E = 2.5 \n",
    "# Initial state of energy (MWh)\n",
    "E_0 = 0.0 \n",
    "# Efficiencies\n",
    "η_C = 1.0\n",
    "η_D = 1.0\n",
    "# Max charge and discharge (MW)\n",
    "P_C = 3.5\n",
    "P_D = 3.5\n",
    ";"
   ]
  },
  {
   "cell_type": "code",
   "execution_count": 3,
   "metadata": {},
   "outputs": [
    {
     "data": {
      "text/html": [
       "<div><div style = \"float: left;\"><span>6×5 DataFrame</span></div><div style = \"clear: both;\"></div></div><div class = \"data-frame\" style = \"overflow-x: scroll;\"><table class = \"data-frame\" style = \"margin-bottom: 6px;\"><thead><tr class = \"header\"><th class = \"rowNumber\" style = \"font-weight: bold; text-align: right;\">Row</th><th style = \"text-align: left;\">MC</th><th style = \"text-align: left;\">t</th><th style = \"text-align: left;\">ID</th><th style = \"text-align: left;\">max</th><th style = \"text-align: left;\">cost</th></tr><tr class = \"subheader headerLastRow\"><th class = \"rowNumber\" style = \"font-weight: bold; text-align: right;\"></th><th title = \"Int64\" style = \"text-align: left;\">Int64</th><th title = \"Int64\" style = \"text-align: left;\">Int64</th><th title = \"Int64\" style = \"text-align: left;\">Int64</th><th title = \"Float64\" style = \"text-align: left;\">Float64</th><th title = \"Int64\" style = \"text-align: left;\">Int64</th></tr></thead><tbody><tr><td class = \"rowNumber\" style = \"font-weight: bold; text-align: right;\">1</td><td style = \"text-align: right;\">1</td><td style = \"text-align: right;\">1</td><td style = \"text-align: right;\">1</td><td style = \"text-align: right;\">1.0</td><td style = \"text-align: right;\">0</td></tr><tr><td class = \"rowNumber\" style = \"font-weight: bold; text-align: right;\">2</td><td style = \"text-align: right;\">1</td><td style = \"text-align: right;\">2</td><td style = \"text-align: right;\">1</td><td style = \"text-align: right;\">2.5</td><td style = \"text-align: right;\">2</td></tr><tr><td class = \"rowNumber\" style = \"font-weight: bold; text-align: right;\">3</td><td style = \"text-align: right;\">1</td><td style = \"text-align: right;\">3</td><td style = \"text-align: right;\">1</td><td style = \"text-align: right;\">0.0</td><td style = \"text-align: right;\">0</td></tr><tr><td class = \"rowNumber\" style = \"font-weight: bold; text-align: right;\">4</td><td style = \"text-align: right;\">2</td><td style = \"text-align: right;\">1</td><td style = \"text-align: right;\">1</td><td style = \"text-align: right;\">2.0</td><td style = \"text-align: right;\">3</td></tr><tr><td class = \"rowNumber\" style = \"font-weight: bold; text-align: right;\">5</td><td style = \"text-align: right;\">2</td><td style = \"text-align: right;\">2</td><td style = \"text-align: right;\">1</td><td style = \"text-align: right;\">1.0</td><td style = \"text-align: right;\">2</td></tr><tr><td class = \"rowNumber\" style = \"font-weight: bold; text-align: right;\">6</td><td style = \"text-align: right;\">2</td><td style = \"text-align: right;\">3</td><td style = \"text-align: right;\">1</td><td style = \"text-align: right;\">5.5</td><td style = \"text-align: right;\">3</td></tr></tbody></table></div>"
      ],
      "text/latex": [
       "\\begin{tabular}{r|ccccc}\n",
       "\t& MC & t & ID & max & cost\\\\\n",
       "\t\\hline\n",
       "\t& Int64 & Int64 & Int64 & Float64 & Int64\\\\\n",
       "\t\\hline\n",
       "\t1 & 1 & 1 & 1 & 1.0 & 0 \\\\\n",
       "\t2 & 1 & 2 & 1 & 2.5 & 2 \\\\\n",
       "\t3 & 1 & 3 & 1 & 0.0 & 0 \\\\\n",
       "\t4 & 2 & 1 & 1 & 2.0 & 3 \\\\\n",
       "\t5 & 2 & 2 & 1 & 1.0 & 2 \\\\\n",
       "\t6 & 2 & 3 & 1 & 5.5 & 3 \\\\\n",
       "\\end{tabular}\n"
      ],
      "text/plain": [
       "\u001b[1m6×5 DataFrame\u001b[0m\n",
       "\u001b[1m Row \u001b[0m│\u001b[1m MC    \u001b[0m\u001b[1m t     \u001b[0m\u001b[1m ID    \u001b[0m\u001b[1m max     \u001b[0m\u001b[1m cost  \u001b[0m\n",
       "     │\u001b[90m Int64 \u001b[0m\u001b[90m Int64 \u001b[0m\u001b[90m Int64 \u001b[0m\u001b[90m Float64 \u001b[0m\u001b[90m Int64 \u001b[0m\n",
       "─────┼─────────────────────────────────────\n",
       "   1 │     1      1      1      1.0      0\n",
       "   2 │     1      2      1      2.5      2\n",
       "   3 │     1      3      1      0.0      0\n",
       "   4 │     2      1      1      2.0      3\n",
       "   5 │     2      2      1      1.0      2\n",
       "   6 │     2      3      1      5.5      3"
      ]
     },
     "metadata": {},
     "output_type": "display_data"
    }
   ],
   "source": [
    "# Dataframes are created from the csv files for generators:\n",
    "G_df = CSV.read(\"data_gen.csv\", DataFrame)"
   ]
  },
  {
   "cell_type": "code",
   "execution_count": 4,
   "metadata": {},
   "outputs": [
    {
     "data": {
      "text/html": [
       "<div><div style = \"float: left;\"><span>6×5 DataFrame</span></div><div style = \"clear: both;\"></div></div><div class = \"data-frame\" style = \"overflow-x: scroll;\"><table class = \"data-frame\" style = \"margin-bottom: 6px;\"><thead><tr class = \"header\"><th class = \"rowNumber\" style = \"font-weight: bold; text-align: right;\">Row</th><th style = \"text-align: left;\">MC</th><th style = \"text-align: left;\">t</th><th style = \"text-align: left;\">ID</th><th style = \"text-align: left;\">max</th><th style = \"text-align: left;\">utility</th></tr><tr class = \"subheader headerLastRow\"><th class = \"rowNumber\" style = \"font-weight: bold; text-align: right;\"></th><th title = \"Int64\" style = \"text-align: left;\">Int64</th><th title = \"Int64\" style = \"text-align: left;\">Int64</th><th title = \"Int64\" style = \"text-align: left;\">Int64</th><th title = \"Float64\" style = \"text-align: left;\">Float64</th><th title = \"Int64\" style = \"text-align: left;\">Int64</th></tr></thead><tbody><tr><td class = \"rowNumber\" style = \"font-weight: bold; text-align: right;\">1</td><td style = \"text-align: right;\">1</td><td style = \"text-align: right;\">1</td><td style = \"text-align: right;\">1</td><td style = \"text-align: right;\">0.0</td><td style = \"text-align: right;\">0</td></tr><tr><td class = \"rowNumber\" style = \"font-weight: bold; text-align: right;\">2</td><td style = \"text-align: right;\">1</td><td style = \"text-align: right;\">2</td><td style = \"text-align: right;\">1</td><td style = \"text-align: right;\">1.0</td><td style = \"text-align: right;\">5</td></tr><tr><td class = \"rowNumber\" style = \"font-weight: bold; text-align: right;\">3</td><td style = \"text-align: right;\">1</td><td style = \"text-align: right;\">3</td><td style = \"text-align: right;\">1</td><td style = \"text-align: right;\">2.0</td><td style = \"text-align: right;\">6</td></tr><tr><td class = \"rowNumber\" style = \"font-weight: bold; text-align: right;\">4</td><td style = \"text-align: right;\">2</td><td style = \"text-align: right;\">1</td><td style = \"text-align: right;\">1</td><td style = \"text-align: right;\">2.5</td><td style = \"text-align: right;\">4</td></tr><tr><td class = \"rowNumber\" style = \"font-weight: bold; text-align: right;\">5</td><td style = \"text-align: right;\">2</td><td style = \"text-align: right;\">2</td><td style = \"text-align: right;\">1</td><td style = \"text-align: right;\">0.0</td><td style = \"text-align: right;\">0</td></tr><tr><td class = \"rowNumber\" style = \"font-weight: bold; text-align: right;\">6</td><td style = \"text-align: right;\">2</td><td style = \"text-align: right;\">3</td><td style = \"text-align: right;\">1</td><td style = \"text-align: right;\">4.0</td><td style = \"text-align: right;\">7</td></tr></tbody></table></div>"
      ],
      "text/latex": [
       "\\begin{tabular}{r|ccccc}\n",
       "\t& MC & t & ID & max & utility\\\\\n",
       "\t\\hline\n",
       "\t& Int64 & Int64 & Int64 & Float64 & Int64\\\\\n",
       "\t\\hline\n",
       "\t1 & 1 & 1 & 1 & 0.0 & 0 \\\\\n",
       "\t2 & 1 & 2 & 1 & 1.0 & 5 \\\\\n",
       "\t3 & 1 & 3 & 1 & 2.0 & 6 \\\\\n",
       "\t4 & 2 & 1 & 1 & 2.5 & 4 \\\\\n",
       "\t5 & 2 & 2 & 1 & 0.0 & 0 \\\\\n",
       "\t6 & 2 & 3 & 1 & 4.0 & 7 \\\\\n",
       "\\end{tabular}\n"
      ],
      "text/plain": [
       "\u001b[1m6×5 DataFrame\u001b[0m\n",
       "\u001b[1m Row \u001b[0m│\u001b[1m MC    \u001b[0m\u001b[1m t     \u001b[0m\u001b[1m ID    \u001b[0m\u001b[1m max     \u001b[0m\u001b[1m utility \u001b[0m\n",
       "     │\u001b[90m Int64 \u001b[0m\u001b[90m Int64 \u001b[0m\u001b[90m Int64 \u001b[0m\u001b[90m Float64 \u001b[0m\u001b[90m Int64   \u001b[0m\n",
       "─────┼───────────────────────────────────────\n",
       "   1 │     1      1      1      0.0        0\n",
       "   2 │     1      2      1      1.0        5\n",
       "   3 │     1      3      1      2.0        6\n",
       "   4 │     2      1      1      2.5        4\n",
       "   5 │     2      2      1      0.0        0\n",
       "   6 │     2      3      1      4.0        7"
      ]
     },
     "metadata": {},
     "output_type": "display_data"
    }
   ],
   "source": [
    "# And loads:\n",
    "L_df = CSV.read(\"data_load.csv\", DataFrame)"
   ]
  },
  {
   "cell_type": "markdown",
   "metadata": {},
   "source": [
    "## Ideal Market Clearing"
   ]
  },
  {
   "cell_type": "code",
   "execution_count": 5,
   "metadata": {},
   "outputs": [],
   "source": [
    "# Set the level for the storage system at the end of the test period:\n",
    "E_final = 2.5\n",
    ";"
   ]
  },
  {
   "cell_type": "code",
   "execution_count": 6,
   "metadata": {},
   "outputs": [
    {
     "name": "stdout",
     "output_type": "stream",
     "text": [
      "SW_tot: 25.5\n",
      "surplus_gen_tot: [3.0]\n",
      "surplus_gen_sum_tot: 3.0\n",
      "surplus_load_tot: [27.5]\n",
      "surplus_stg_tot: -5.0\n"
     ]
    },
    {
     "data": {
      "text/html": [
       "<div><div style = \"float: left;\"><span>6×11 DataFrame</span></div><div style = \"clear: both;\"></div></div><div class = \"data-frame\" style = \"overflow-x: scroll;\"><table class = \"data-frame\" style = \"margin-bottom: 6px;\"><thead><tr class = \"header\"><th class = \"rowNumber\" style = \"font-weight: bold; text-align: right;\">Row</th><th style = \"text-align: left;\">Time</th><th style = \"text-align: left;\">Market_Price</th><th style = \"text-align: left;\">C1</th><th style = \"text-align: left;\">p1</th><th style = \"text-align: left;\">P1</th><th style = \"text-align: left;\">U1</th><th style = \"text-align: left;\">d1</th><th style = \"text-align: left;\">D1</th><th style = \"text-align: left;\">p_C</th><th style = \"text-align: left;\">p_D</th><th style = \"text-align: left;\">e</th></tr><tr class = \"subheader headerLastRow\"><th class = \"rowNumber\" style = \"font-weight: bold; text-align: right;\"></th><th title = \"Any\" style = \"text-align: left;\">Any</th><th title = \"Any\" style = \"text-align: left;\">Any</th><th title = \"Any\" style = \"text-align: left;\">Any</th><th title = \"Any\" style = \"text-align: left;\">Any</th><th title = \"Any\" style = \"text-align: left;\">Any</th><th title = \"Any\" style = \"text-align: left;\">Any</th><th title = \"Any\" style = \"text-align: left;\">Any</th><th title = \"Any\" style = \"text-align: left;\">Any</th><th title = \"Any\" style = \"text-align: left;\">Any</th><th title = \"Any\" style = \"text-align: left;\">Any</th><th title = \"Any\" style = \"text-align: left;\">Any</th></tr></thead><tbody><tr><td class = \"rowNumber\" style = \"font-weight: bold; text-align: right;\">1</td><td style = \"text-align: left;\">1.0</td><td style = \"text-align: left;\">2.0</td><td style = \"text-align: left;\">0.0</td><td style = \"text-align: left;\">1.0</td><td style = \"text-align: left;\">1.0</td><td style = \"text-align: left;\">0.0</td><td style = \"text-align: left;\">0.0</td><td style = \"text-align: left;\">0.0</td><td style = \"text-align: left;\">1.0</td><td style = \"text-align: left;\">0.0</td><td style = \"text-align: left;\">1.0</td></tr><tr><td class = \"rowNumber\" style = \"font-weight: bold; text-align: right;\">2</td><td style = \"text-align: left;\">2.0</td><td style = \"text-align: left;\">2.0</td><td style = \"text-align: left;\">2.0</td><td style = \"text-align: left;\">2.5</td><td style = \"text-align: left;\">2.5</td><td style = \"text-align: left;\">5.0</td><td style = \"text-align: left;\">1.0</td><td style = \"text-align: left;\">1.0</td><td style = \"text-align: left;\">1.5</td><td style = \"text-align: left;\">0.0</td><td style = \"text-align: left;\">2.5</td></tr><tr><td class = \"rowNumber\" style = \"font-weight: bold; text-align: right;\">3</td><td style = \"text-align: left;\">3.0</td><td style = \"text-align: left;\">3.0</td><td style = \"text-align: left;\">0.0</td><td style = \"text-align: left;\">-0.0</td><td style = \"text-align: left;\">0.0</td><td style = \"text-align: left;\">6.0</td><td style = \"text-align: left;\">2.0</td><td style = \"text-align: left;\">2.0</td><td style = \"text-align: left;\">0.0</td><td style = \"text-align: left;\">2.0</td><td style = \"text-align: left;\">0.5</td></tr><tr><td class = \"rowNumber\" style = \"font-weight: bold; text-align: right;\">4</td><td style = \"text-align: left;\">4.0</td><td style = \"text-align: left;\">3.0</td><td style = \"text-align: left;\">3.0</td><td style = \"text-align: left;\">2.0</td><td style = \"text-align: left;\">2.0</td><td style = \"text-align: left;\">4.0</td><td style = \"text-align: left;\">2.5</td><td style = \"text-align: left;\">2.5</td><td style = \"text-align: left;\">0.0</td><td style = \"text-align: left;\">0.5</td><td style = \"text-align: left;\">-0.0</td></tr><tr><td class = \"rowNumber\" style = \"font-weight: bold; text-align: right;\">5</td><td style = \"text-align: left;\">5.0</td><td style = \"text-align: left;\">3.0</td><td style = \"text-align: left;\">2.0</td><td style = \"text-align: left;\">1.0</td><td style = \"text-align: left;\">1.0</td><td style = \"text-align: left;\">0.0</td><td style = \"text-align: left;\">0.0</td><td style = \"text-align: left;\">0.0</td><td style = \"text-align: left;\">1.0</td><td style = \"text-align: left;\">0.0</td><td style = \"text-align: left;\">1.0</td></tr><tr><td class = \"rowNumber\" style = \"font-weight: bold; text-align: right;\">6</td><td style = \"text-align: left;\">6.0</td><td style = \"text-align: left;\">3.0</td><td style = \"text-align: left;\">3.0</td><td style = \"text-align: left;\">5.5</td><td style = \"text-align: left;\">5.5</td><td style = \"text-align: left;\">7.0</td><td style = \"text-align: left;\">4.0</td><td style = \"text-align: left;\">4.0</td><td style = \"text-align: left;\">1.5</td><td style = \"text-align: left;\">0.0</td><td style = \"text-align: left;\">2.5</td></tr></tbody></table></div>"
      ],
      "text/latex": [
       "\\begin{tabular}{r|ccccccccccc}\n",
       "\t& Time & Market\\_Price & C1 & p1 & P1 & U1 & d1 & D1 & p\\_C & p\\_D & e\\\\\n",
       "\t\\hline\n",
       "\t& Any & Any & Any & Any & Any & Any & Any & Any & Any & Any & Any\\\\\n",
       "\t\\hline\n",
       "\t1 & 1.0 & 2.0 & 0.0 & 1.0 & 1.0 & 0.0 & 0.0 & 0.0 & 1.0 & 0.0 & 1.0 \\\\\n",
       "\t2 & 2.0 & 2.0 & 2.0 & 2.5 & 2.5 & 5.0 & 1.0 & 1.0 & 1.5 & 0.0 & 2.5 \\\\\n",
       "\t3 & 3.0 & 3.0 & 0.0 & -0.0 & 0.0 & 6.0 & 2.0 & 2.0 & 0.0 & 2.0 & 0.5 \\\\\n",
       "\t4 & 4.0 & 3.0 & 3.0 & 2.0 & 2.0 & 4.0 & 2.5 & 2.5 & 0.0 & 0.5 & -0.0 \\\\\n",
       "\t5 & 5.0 & 3.0 & 2.0 & 1.0 & 1.0 & 0.0 & 0.0 & 0.0 & 1.0 & 0.0 & 1.0 \\\\\n",
       "\t6 & 6.0 & 3.0 & 3.0 & 5.5 & 5.5 & 7.0 & 4.0 & 4.0 & 1.5 & 0.0 & 2.5 \\\\\n",
       "\\end{tabular}\n"
      ],
      "text/plain": [
       "\u001b[1m6×11 DataFrame\u001b[0m\n",
       "\u001b[1m Row \u001b[0m│\u001b[1m Time \u001b[0m\u001b[1m Market_Price \u001b[0m\u001b[1m C1  \u001b[0m\u001b[1m p1   \u001b[0m\u001b[1m P1  \u001b[0m\u001b[1m U1  \u001b[0m\u001b[1m d1  \u001b[0m\u001b[1m D1  \u001b[0m\u001b[1m p_C \u001b[0m\u001b[1m p_D \u001b[0m\u001b[1m e    \u001b[0m\n",
       "     │\u001b[90m Any  \u001b[0m\u001b[90m Any          \u001b[0m\u001b[90m Any \u001b[0m\u001b[90m Any  \u001b[0m\u001b[90m Any \u001b[0m\u001b[90m Any \u001b[0m\u001b[90m Any \u001b[0m\u001b[90m Any \u001b[0m\u001b[90m Any \u001b[0m\u001b[90m Any \u001b[0m\u001b[90m Any  \u001b[0m\n",
       "─────┼───────────────────────────────────────────────────────────────────\n",
       "   1 │ 1.0   2.0           0.0  1.0   1.0  0.0  0.0  0.0  1.0  0.0  1.0\n",
       "   2 │ 2.0   2.0           2.0  2.5   2.5  5.0  1.0  1.0  1.5  0.0  2.5\n",
       "   3 │ 3.0   3.0           0.0  -0.0  0.0  6.0  2.0  2.0  0.0  2.0  0.5\n",
       "   4 │ 4.0   3.0           3.0  2.0   2.0  4.0  2.5  2.5  0.0  0.5  -0.0\n",
       "   5 │ 5.0   3.0           2.0  1.0   1.0  0.0  0.0  0.0  1.0  0.0  1.0\n",
       "   6 │ 6.0   3.0           3.0  5.5   5.5  7.0  4.0  4.0  1.5  0.0  2.5"
      ]
     },
     "metadata": {},
     "output_type": "display_data"
    }
   ],
   "source": [
    "# Run the market clearing\n",
    "include.((\"fct_perfect.jl\",\"fct_mc_all.jl\",\"fct_data_all.jl\"))\n",
    "df_MCP = perfect(∆t, E, E_0, η_C, η_D, P_C, P_D, E_final, G_df, L_df)"
   ]
  },
  {
   "cell_type": "markdown",
   "metadata": {},
   "source": [
    "## Split Market Clearing with Level"
   ]
  },
  {
   "cell_type": "code",
   "execution_count": 7,
   "metadata": {},
   "outputs": [],
   "source": [
    "# Set the level for the storage system at the end of each market interval:\n",
    "E_end = [0.5, 2.5]\n",
    ";"
   ]
  },
  {
   "cell_type": "code",
   "execution_count": 8,
   "metadata": {},
   "outputs": [
    {
     "name": "stdout",
     "output_type": "stream",
     "text": [
      "SW_tot: 25.5\n",
      "surplus_gen_tot: [5.0]\n",
      "surplus_gen_sum_tot: 5.0\n",
      "surplus_load_tot: [19.0]\n",
      "surplus_stg_tot: 1.5\n"
     ]
    },
    {
     "data": {
      "text/html": [
       "<div><div style = \"float: left;\"><span>6×11 DataFrame</span></div><div style = \"clear: both;\"></div></div><div class = \"data-frame\" style = \"overflow-x: scroll;\"><table class = \"data-frame\" style = \"margin-bottom: 6px;\"><thead><tr class = \"header\"><th class = \"rowNumber\" style = \"font-weight: bold; text-align: right;\">Row</th><th style = \"text-align: left;\">Time</th><th style = \"text-align: left;\">Market_Price</th><th style = \"text-align: left;\">C1</th><th style = \"text-align: left;\">p1</th><th style = \"text-align: left;\">P1</th><th style = \"text-align: left;\">U1</th><th style = \"text-align: left;\">d1</th><th style = \"text-align: left;\">D1</th><th style = \"text-align: left;\">p_C</th><th style = \"text-align: left;\">p_D</th><th style = \"text-align: left;\">e</th></tr><tr class = \"subheader headerLastRow\"><th class = \"rowNumber\" style = \"font-weight: bold; text-align: right;\"></th><th title = \"Any\" style = \"text-align: left;\">Any</th><th title = \"Any\" style = \"text-align: left;\">Any</th><th title = \"Any\" style = \"text-align: left;\">Any</th><th title = \"Any\" style = \"text-align: left;\">Any</th><th title = \"Any\" style = \"text-align: left;\">Any</th><th title = \"Any\" style = \"text-align: left;\">Any</th><th title = \"Any\" style = \"text-align: left;\">Any</th><th title = \"Any\" style = \"text-align: left;\">Any</th><th title = \"Any\" style = \"text-align: left;\">Any</th><th title = \"Any\" style = \"text-align: left;\">Any</th><th title = \"Any\" style = \"text-align: left;\">Any</th></tr></thead><tbody><tr><td class = \"rowNumber\" style = \"font-weight: bold; text-align: right;\">1</td><td style = \"text-align: left;\">1.0</td><td style = \"text-align: left;\">2.0</td><td style = \"text-align: left;\">0.0</td><td style = \"text-align: left;\">1.0</td><td style = \"text-align: left;\">1.0</td><td style = \"text-align: left;\">0.0</td><td style = \"text-align: left;\">0.0</td><td style = \"text-align: left;\">0.0</td><td style = \"text-align: left;\">1.0</td><td style = \"text-align: left;\">0.0</td><td style = \"text-align: left;\">1.0</td></tr><tr><td class = \"rowNumber\" style = \"font-weight: bold; text-align: right;\">2</td><td style = \"text-align: left;\">2.0</td><td style = \"text-align: left;\">2.0</td><td style = \"text-align: left;\">2.0</td><td style = \"text-align: left;\">2.5</td><td style = \"text-align: left;\">2.5</td><td style = \"text-align: left;\">5.0</td><td style = \"text-align: left;\">1.0</td><td style = \"text-align: left;\">1.0</td><td style = \"text-align: left;\">1.5</td><td style = \"text-align: left;\">0.0</td><td style = \"text-align: left;\">2.5</td></tr><tr><td class = \"rowNumber\" style = \"font-weight: bold; text-align: right;\">3</td><td style = \"text-align: left;\">3.0</td><td style = \"text-align: left;\">6.0</td><td style = \"text-align: left;\">0.0</td><td style = \"text-align: left;\">-0.0</td><td style = \"text-align: left;\">0.0</td><td style = \"text-align: left;\">6.0</td><td style = \"text-align: left;\">2.0</td><td style = \"text-align: left;\">2.0</td><td style = \"text-align: left;\">0.0</td><td style = \"text-align: left;\">2.0</td><td style = \"text-align: left;\">0.5</td></tr><tr><td class = \"rowNumber\" style = \"font-weight: bold; text-align: right;\">4</td><td style = \"text-align: left;\">4.0</td><td style = \"text-align: left;\">4.0</td><td style = \"text-align: left;\">3.0</td><td style = \"text-align: left;\">2.0</td><td style = \"text-align: left;\">2.0</td><td style = \"text-align: left;\">4.0</td><td style = \"text-align: left;\">2.5</td><td style = \"text-align: left;\">2.5</td><td style = \"text-align: left;\">0.0</td><td style = \"text-align: left;\">0.5</td><td style = \"text-align: left;\">0.0</td></tr><tr><td class = \"rowNumber\" style = \"font-weight: bold; text-align: right;\">5</td><td style = \"text-align: left;\">5.0</td><td style = \"text-align: left;\">3.0</td><td style = \"text-align: left;\">2.0</td><td style = \"text-align: left;\">1.0</td><td style = \"text-align: left;\">1.0</td><td style = \"text-align: left;\">0.0</td><td style = \"text-align: left;\">0.0</td><td style = \"text-align: left;\">0.0</td><td style = \"text-align: left;\">1.0</td><td style = \"text-align: left;\">0.0</td><td style = \"text-align: left;\">1.0</td></tr><tr><td class = \"rowNumber\" style = \"font-weight: bold; text-align: right;\">6</td><td style = \"text-align: left;\">6.0</td><td style = \"text-align: left;\">3.0</td><td style = \"text-align: left;\">3.0</td><td style = \"text-align: left;\">5.5</td><td style = \"text-align: left;\">5.5</td><td style = \"text-align: left;\">7.0</td><td style = \"text-align: left;\">4.0</td><td style = \"text-align: left;\">4.0</td><td style = \"text-align: left;\">1.5</td><td style = \"text-align: left;\">0.0</td><td style = \"text-align: left;\">2.5</td></tr></tbody></table></div>"
      ],
      "text/latex": [
       "\\begin{tabular}{r|ccccccccccc}\n",
       "\t& Time & Market\\_Price & C1 & p1 & P1 & U1 & d1 & D1 & p\\_C & p\\_D & e\\\\\n",
       "\t\\hline\n",
       "\t& Any & Any & Any & Any & Any & Any & Any & Any & Any & Any & Any\\\\\n",
       "\t\\hline\n",
       "\t1 & 1.0 & 2.0 & 0.0 & 1.0 & 1.0 & 0.0 & 0.0 & 0.0 & 1.0 & 0.0 & 1.0 \\\\\n",
       "\t2 & 2.0 & 2.0 & 2.0 & 2.5 & 2.5 & 5.0 & 1.0 & 1.0 & 1.5 & 0.0 & 2.5 \\\\\n",
       "\t3 & 3.0 & 6.0 & 0.0 & -0.0 & 0.0 & 6.0 & 2.0 & 2.0 & 0.0 & 2.0 & 0.5 \\\\\n",
       "\t4 & 4.0 & 4.0 & 3.0 & 2.0 & 2.0 & 4.0 & 2.5 & 2.5 & 0.0 & 0.5 & 0.0 \\\\\n",
       "\t5 & 5.0 & 3.0 & 2.0 & 1.0 & 1.0 & 0.0 & 0.0 & 0.0 & 1.0 & 0.0 & 1.0 \\\\\n",
       "\t6 & 6.0 & 3.0 & 3.0 & 5.5 & 5.5 & 7.0 & 4.0 & 4.0 & 1.5 & 0.0 & 2.5 \\\\\n",
       "\\end{tabular}\n"
      ],
      "text/plain": [
       "\u001b[1m6×11 DataFrame\u001b[0m\n",
       "\u001b[1m Row \u001b[0m│\u001b[1m Time \u001b[0m\u001b[1m Market_Price \u001b[0m\u001b[1m C1  \u001b[0m\u001b[1m p1   \u001b[0m\u001b[1m P1  \u001b[0m\u001b[1m U1  \u001b[0m\u001b[1m d1  \u001b[0m\u001b[1m D1  \u001b[0m\u001b[1m p_C \u001b[0m\u001b[1m p_D \u001b[0m\u001b[1m e   \u001b[0m\n",
       "     │\u001b[90m Any  \u001b[0m\u001b[90m Any          \u001b[0m\u001b[90m Any \u001b[0m\u001b[90m Any  \u001b[0m\u001b[90m Any \u001b[0m\u001b[90m Any \u001b[0m\u001b[90m Any \u001b[0m\u001b[90m Any \u001b[0m\u001b[90m Any \u001b[0m\u001b[90m Any \u001b[0m\u001b[90m Any \u001b[0m\n",
       "─────┼──────────────────────────────────────────────────────────────────\n",
       "   1 │ 1.0   2.0           0.0  1.0   1.0  0.0  0.0  0.0  1.0  0.0  1.0\n",
       "   2 │ 2.0   2.0           2.0  2.5   2.5  5.0  1.0  1.0  1.5  0.0  2.5\n",
       "   3 │ 3.0   6.0           0.0  -0.0  0.0  6.0  2.0  2.0  0.0  2.0  0.5\n",
       "   4 │ 4.0   4.0           3.0  2.0   2.0  4.0  2.5  2.5  0.0  0.5  0.0\n",
       "   5 │ 5.0   3.0           2.0  1.0   1.0  0.0  0.0  0.0  1.0  0.0  1.0\n",
       "   6 │ 6.0   3.0           3.0  5.5   5.5  7.0  4.0  4.0  1.5  0.0  2.5"
      ]
     },
     "metadata": {},
     "output_type": "display_data"
    }
   ],
   "source": [
    "# Run the market clearing\n",
    "include.((\"fct_split.jl\",\"fct_mc_all.jl\",\"fct_data_all.jl\"))\n",
    "S_end = zeros(maximum(G_df.MC)) # Set the penalty to zero (no penalty)\n",
    "df_MCS = split(∆t, E, E_0, η_C, η_D, P_C, P_D, G_df, L_df, E_end, S_end)"
   ]
  },
  {
   "cell_type": "markdown",
   "metadata": {},
   "source": [
    "## Split Market Clearing with Penalty"
   ]
  },
  {
   "cell_type": "code",
   "execution_count": 9,
   "metadata": {},
   "outputs": [],
   "source": [
    "# Set the penalty for the storage system at the end of each market interval:\n",
    "S_end = [1.28, 0]\n",
    ";"
   ]
  },
  {
   "cell_type": "code",
   "execution_count": 10,
   "metadata": {},
   "outputs": [
    {
     "name": "stdout",
     "output_type": "stream",
     "text": [
      "SW_tot: 32.0\n",
      "surplus_gen_tot: [5.0]\n",
      "surplus_gen_sum_tot: 5.0\n",
      "surplus_load_tot: [27.0]\n",
      "surplus_stg_tot: 0.0\n"
     ]
    },
    {
     "data": {
      "text/html": [
       "<div><div style = \"float: left;\"><span>6×11 DataFrame</span></div><div style = \"clear: both;\"></div></div><div class = \"data-frame\" style = \"overflow-x: scroll;\"><table class = \"data-frame\" style = \"margin-bottom: 6px;\"><thead><tr class = \"header\"><th class = \"rowNumber\" style = \"font-weight: bold; text-align: right;\">Row</th><th style = \"text-align: left;\">Time</th><th style = \"text-align: left;\">Market_Price</th><th style = \"text-align: left;\">C1</th><th style = \"text-align: left;\">p1</th><th style = \"text-align: left;\">P1</th><th style = \"text-align: left;\">U1</th><th style = \"text-align: left;\">d1</th><th style = \"text-align: left;\">D1</th><th style = \"text-align: left;\">p_C</th><th style = \"text-align: left;\">p_D</th><th style = \"text-align: left;\">e</th></tr><tr class = \"subheader headerLastRow\"><th class = \"rowNumber\" style = \"font-weight: bold; text-align: right;\"></th><th title = \"Any\" style = \"text-align: left;\">Any</th><th title = \"Any\" style = \"text-align: left;\">Any</th><th title = \"Any\" style = \"text-align: left;\">Any</th><th title = \"Any\" style = \"text-align: left;\">Any</th><th title = \"Any\" style = \"text-align: left;\">Any</th><th title = \"Any\" style = \"text-align: left;\">Any</th><th title = \"Any\" style = \"text-align: left;\">Any</th><th title = \"Any\" style = \"text-align: left;\">Any</th><th title = \"Any\" style = \"text-align: left;\">Any</th><th title = \"Any\" style = \"text-align: left;\">Any</th><th title = \"Any\" style = \"text-align: left;\">Any</th></tr></thead><tbody><tr><td class = \"rowNumber\" style = \"font-weight: bold; text-align: right;\">1</td><td style = \"text-align: left;\">1.0</td><td style = \"text-align: left;\">2.0</td><td style = \"text-align: left;\">0.0</td><td style = \"text-align: left;\">1.0</td><td style = \"text-align: left;\">1.0</td><td style = \"text-align: left;\">0.0</td><td style = \"text-align: left;\">0.0</td><td style = \"text-align: left;\">0.0</td><td style = \"text-align: left;\">1.0</td><td style = \"text-align: left;\">0.0</td><td style = \"text-align: left;\">1.0</td></tr><tr><td class = \"rowNumber\" style = \"font-weight: bold; text-align: right;\">2</td><td style = \"text-align: left;\">2.0</td><td style = \"text-align: left;\">2.0</td><td style = \"text-align: left;\">2.0</td><td style = \"text-align: left;\">2.0</td><td style = \"text-align: left;\">2.5</td><td style = \"text-align: left;\">5.0</td><td style = \"text-align: left;\">1.0</td><td style = \"text-align: left;\">1.0</td><td style = \"text-align: left;\">1.0</td><td style = \"text-align: left;\">0.0</td><td style = \"text-align: left;\">2.0</td></tr><tr><td class = \"rowNumber\" style = \"font-weight: bold; text-align: right;\">3</td><td style = \"text-align: left;\">3.0</td><td style = \"text-align: left;\">2.0</td><td style = \"text-align: left;\">0.0</td><td style = \"text-align: left;\">-0.0</td><td style = \"text-align: left;\">0.0</td><td style = \"text-align: left;\">6.0</td><td style = \"text-align: left;\">2.0</td><td style = \"text-align: left;\">2.0</td><td style = \"text-align: left;\">0.0</td><td style = \"text-align: left;\">2.0</td><td style = \"text-align: left;\">0.0</td></tr><tr><td class = \"rowNumber\" style = \"font-weight: bold; text-align: right;\">4</td><td style = \"text-align: left;\">4.0</td><td style = \"text-align: left;\">4.0</td><td style = \"text-align: left;\">3.0</td><td style = \"text-align: left;\">2.0</td><td style = \"text-align: left;\">2.0</td><td style = \"text-align: left;\">4.0</td><td style = \"text-align: left;\">2.0</td><td style = \"text-align: left;\">2.5</td><td style = \"text-align: left;\">0.0</td><td style = \"text-align: left;\">-0.0</td><td style = \"text-align: left;\">0.0</td></tr><tr><td class = \"rowNumber\" style = \"font-weight: bold; text-align: right;\">5</td><td style = \"text-align: left;\">5.0</td><td style = \"text-align: left;\">3.0</td><td style = \"text-align: left;\">2.0</td><td style = \"text-align: left;\">1.0</td><td style = \"text-align: left;\">1.0</td><td style = \"text-align: left;\">0.0</td><td style = \"text-align: left;\">0.0</td><td style = \"text-align: left;\">0.0</td><td style = \"text-align: left;\">1.0</td><td style = \"text-align: left;\">0.0</td><td style = \"text-align: left;\">1.0</td></tr><tr><td class = \"rowNumber\" style = \"font-weight: bold; text-align: right;\">6</td><td style = \"text-align: left;\">6.0</td><td style = \"text-align: left;\">3.0</td><td style = \"text-align: left;\">3.0</td><td style = \"text-align: left;\">3.0</td><td style = \"text-align: left;\">5.5</td><td style = \"text-align: left;\">7.0</td><td style = \"text-align: left;\">4.0</td><td style = \"text-align: left;\">4.0</td><td style = \"text-align: left;\">0.0</td><td style = \"text-align: left;\">1.0</td><td style = \"text-align: left;\">0.0</td></tr></tbody></table></div>"
      ],
      "text/latex": [
       "\\begin{tabular}{r|ccccccccccc}\n",
       "\t& Time & Market\\_Price & C1 & p1 & P1 & U1 & d1 & D1 & p\\_C & p\\_D & e\\\\\n",
       "\t\\hline\n",
       "\t& Any & Any & Any & Any & Any & Any & Any & Any & Any & Any & Any\\\\\n",
       "\t\\hline\n",
       "\t1 & 1.0 & 2.0 & 0.0 & 1.0 & 1.0 & 0.0 & 0.0 & 0.0 & 1.0 & 0.0 & 1.0 \\\\\n",
       "\t2 & 2.0 & 2.0 & 2.0 & 2.0 & 2.5 & 5.0 & 1.0 & 1.0 & 1.0 & 0.0 & 2.0 \\\\\n",
       "\t3 & 3.0 & 2.0 & 0.0 & -0.0 & 0.0 & 6.0 & 2.0 & 2.0 & 0.0 & 2.0 & 0.0 \\\\\n",
       "\t4 & 4.0 & 4.0 & 3.0 & 2.0 & 2.0 & 4.0 & 2.0 & 2.5 & 0.0 & -0.0 & 0.0 \\\\\n",
       "\t5 & 5.0 & 3.0 & 2.0 & 1.0 & 1.0 & 0.0 & 0.0 & 0.0 & 1.0 & 0.0 & 1.0 \\\\\n",
       "\t6 & 6.0 & 3.0 & 3.0 & 3.0 & 5.5 & 7.0 & 4.0 & 4.0 & 0.0 & 1.0 & 0.0 \\\\\n",
       "\\end{tabular}\n"
      ],
      "text/plain": [
       "\u001b[1m6×11 DataFrame\u001b[0m\n",
       "\u001b[1m Row \u001b[0m│\u001b[1m Time \u001b[0m\u001b[1m Market_Price \u001b[0m\u001b[1m C1  \u001b[0m\u001b[1m p1   \u001b[0m\u001b[1m P1  \u001b[0m\u001b[1m U1  \u001b[0m\u001b[1m d1  \u001b[0m\u001b[1m D1  \u001b[0m\u001b[1m p_C \u001b[0m\u001b[1m p_D  \u001b[0m\u001b[1m e   \u001b[0m\n",
       "     │\u001b[90m Any  \u001b[0m\u001b[90m Any          \u001b[0m\u001b[90m Any \u001b[0m\u001b[90m Any  \u001b[0m\u001b[90m Any \u001b[0m\u001b[90m Any \u001b[0m\u001b[90m Any \u001b[0m\u001b[90m Any \u001b[0m\u001b[90m Any \u001b[0m\u001b[90m Any  \u001b[0m\u001b[90m Any \u001b[0m\n",
       "─────┼───────────────────────────────────────────────────────────────────\n",
       "   1 │ 1.0   2.0           0.0  1.0   1.0  0.0  0.0  0.0  1.0  0.0   1.0\n",
       "   2 │ 2.0   2.0           2.0  2.0   2.5  5.0  1.0  1.0  1.0  0.0   2.0\n",
       "   3 │ 3.0   2.0           0.0  -0.0  0.0  6.0  2.0  2.0  0.0  2.0   0.0\n",
       "   4 │ 4.0   4.0           3.0  2.0   2.0  4.0  2.0  2.5  0.0  -0.0  0.0\n",
       "   5 │ 5.0   3.0           2.0  1.0   1.0  0.0  0.0  0.0  1.0  0.0   1.0\n",
       "   6 │ 6.0   3.0           3.0  3.0   5.5  7.0  4.0  4.0  0.0  1.0   0.0"
      ]
     },
     "metadata": {},
     "output_type": "display_data"
    }
   ],
   "source": [
    "# Run the market clearing\n",
    "include.((\"fct_split.jl\",\"fct_mc_all.jl\",\"fct_data_all.jl\"))\n",
    "E_end = [false, false] # No final level\n",
    "df_MCS = split(∆t, E, E_0, η_C, η_D, P_C, P_D, G_df, L_df, E_end, S_end)"
   ]
  },
  {
   "cell_type": "markdown",
   "metadata": {},
   "source": [
    "## Myopic Market Clearing"
   ]
  },
  {
   "cell_type": "code",
   "execution_count": 11,
   "metadata": {},
   "outputs": [
    {
     "name": "stdout",
     "output_type": "stream",
     "text": [
      "SW_tot: 32.0\n",
      "surplus_gen_tot: [5.0]\n",
      "surplus_gen_sum_tot: 5.0\n",
      "surplus_load_tot: [27.0]\n",
      "surplus_stg_tot: 0.0\n"
     ]
    },
    {
     "data": {
      "text/html": [
       "<div><div style = \"float: left;\"><span>6×11 DataFrame</span></div><div style = \"clear: both;\"></div></div><div class = \"data-frame\" style = \"overflow-x: scroll;\"><table class = \"data-frame\" style = \"margin-bottom: 6px;\"><thead><tr class = \"header\"><th class = \"rowNumber\" style = \"font-weight: bold; text-align: right;\">Row</th><th style = \"text-align: left;\">Time</th><th style = \"text-align: left;\">Market_Price</th><th style = \"text-align: left;\">C1</th><th style = \"text-align: left;\">p1</th><th style = \"text-align: left;\">P1</th><th style = \"text-align: left;\">U1</th><th style = \"text-align: left;\">d1</th><th style = \"text-align: left;\">D1</th><th style = \"text-align: left;\">p_C</th><th style = \"text-align: left;\">p_D</th><th style = \"text-align: left;\">e</th></tr><tr class = \"subheader headerLastRow\"><th class = \"rowNumber\" style = \"font-weight: bold; text-align: right;\"></th><th title = \"Any\" style = \"text-align: left;\">Any</th><th title = \"Any\" style = \"text-align: left;\">Any</th><th title = \"Any\" style = \"text-align: left;\">Any</th><th title = \"Any\" style = \"text-align: left;\">Any</th><th title = \"Any\" style = \"text-align: left;\">Any</th><th title = \"Any\" style = \"text-align: left;\">Any</th><th title = \"Any\" style = \"text-align: left;\">Any</th><th title = \"Any\" style = \"text-align: left;\">Any</th><th title = \"Any\" style = \"text-align: left;\">Any</th><th title = \"Any\" style = \"text-align: left;\">Any</th><th title = \"Any\" style = \"text-align: left;\">Any</th></tr></thead><tbody><tr><td class = \"rowNumber\" style = \"font-weight: bold; text-align: right;\">1</td><td style = \"text-align: left;\">1.0</td><td style = \"text-align: left;\">2.0</td><td style = \"text-align: left;\">0.0</td><td style = \"text-align: left;\">1.0</td><td style = \"text-align: left;\">1.0</td><td style = \"text-align: left;\">0.0</td><td style = \"text-align: left;\">0.0</td><td style = \"text-align: left;\">0.0</td><td style = \"text-align: left;\">1.0</td><td style = \"text-align: left;\">0.0</td><td style = \"text-align: left;\">1.0</td></tr><tr><td class = \"rowNumber\" style = \"font-weight: bold; text-align: right;\">2</td><td style = \"text-align: left;\">2.0</td><td style = \"text-align: left;\">2.0</td><td style = \"text-align: left;\">2.0</td><td style = \"text-align: left;\">2.0</td><td style = \"text-align: left;\">2.5</td><td style = \"text-align: left;\">5.0</td><td style = \"text-align: left;\">1.0</td><td style = \"text-align: left;\">1.0</td><td style = \"text-align: left;\">1.0</td><td style = \"text-align: left;\">0.0</td><td style = \"text-align: left;\">2.0</td></tr><tr><td class = \"rowNumber\" style = \"font-weight: bold; text-align: right;\">3</td><td style = \"text-align: left;\">3.0</td><td style = \"text-align: left;\">2.0</td><td style = \"text-align: left;\">0.0</td><td style = \"text-align: left;\">-0.0</td><td style = \"text-align: left;\">0.0</td><td style = \"text-align: left;\">6.0</td><td style = \"text-align: left;\">2.0</td><td style = \"text-align: left;\">2.0</td><td style = \"text-align: left;\">0.0</td><td style = \"text-align: left;\">2.0</td><td style = \"text-align: left;\">0.0</td></tr><tr><td class = \"rowNumber\" style = \"font-weight: bold; text-align: right;\">4</td><td style = \"text-align: left;\">4.0</td><td style = \"text-align: left;\">4.0</td><td style = \"text-align: left;\">3.0</td><td style = \"text-align: left;\">2.0</td><td style = \"text-align: left;\">2.0</td><td style = \"text-align: left;\">4.0</td><td style = \"text-align: left;\">2.0</td><td style = \"text-align: left;\">2.5</td><td style = \"text-align: left;\">0.0</td><td style = \"text-align: left;\">-0.0</td><td style = \"text-align: left;\">0.0</td></tr><tr><td class = \"rowNumber\" style = \"font-weight: bold; text-align: right;\">5</td><td style = \"text-align: left;\">5.0</td><td style = \"text-align: left;\">3.0</td><td style = \"text-align: left;\">2.0</td><td style = \"text-align: left;\">1.0</td><td style = \"text-align: left;\">1.0</td><td style = \"text-align: left;\">0.0</td><td style = \"text-align: left;\">0.0</td><td style = \"text-align: left;\">0.0</td><td style = \"text-align: left;\">1.0</td><td style = \"text-align: left;\">0.0</td><td style = \"text-align: left;\">1.0</td></tr><tr><td class = \"rowNumber\" style = \"font-weight: bold; text-align: right;\">6</td><td style = \"text-align: left;\">6.0</td><td style = \"text-align: left;\">3.0</td><td style = \"text-align: left;\">3.0</td><td style = \"text-align: left;\">3.0</td><td style = \"text-align: left;\">5.5</td><td style = \"text-align: left;\">7.0</td><td style = \"text-align: left;\">4.0</td><td style = \"text-align: left;\">4.0</td><td style = \"text-align: left;\">0.0</td><td style = \"text-align: left;\">1.0</td><td style = \"text-align: left;\">0.0</td></tr></tbody></table></div>"
      ],
      "text/latex": [
       "\\begin{tabular}{r|ccccccccccc}\n",
       "\t& Time & Market\\_Price & C1 & p1 & P1 & U1 & d1 & D1 & p\\_C & p\\_D & e\\\\\n",
       "\t\\hline\n",
       "\t& Any & Any & Any & Any & Any & Any & Any & Any & Any & Any & Any\\\\\n",
       "\t\\hline\n",
       "\t1 & 1.0 & 2.0 & 0.0 & 1.0 & 1.0 & 0.0 & 0.0 & 0.0 & 1.0 & 0.0 & 1.0 \\\\\n",
       "\t2 & 2.0 & 2.0 & 2.0 & 2.0 & 2.5 & 5.0 & 1.0 & 1.0 & 1.0 & 0.0 & 2.0 \\\\\n",
       "\t3 & 3.0 & 2.0 & 0.0 & -0.0 & 0.0 & 6.0 & 2.0 & 2.0 & 0.0 & 2.0 & 0.0 \\\\\n",
       "\t4 & 4.0 & 4.0 & 3.0 & 2.0 & 2.0 & 4.0 & 2.0 & 2.5 & 0.0 & -0.0 & 0.0 \\\\\n",
       "\t5 & 5.0 & 3.0 & 2.0 & 1.0 & 1.0 & 0.0 & 0.0 & 0.0 & 1.0 & 0.0 & 1.0 \\\\\n",
       "\t6 & 6.0 & 3.0 & 3.0 & 3.0 & 5.5 & 7.0 & 4.0 & 4.0 & 0.0 & 1.0 & 0.0 \\\\\n",
       "\\end{tabular}\n"
      ],
      "text/plain": [
       "\u001b[1m6×11 DataFrame\u001b[0m\n",
       "\u001b[1m Row \u001b[0m│\u001b[1m Time \u001b[0m\u001b[1m Market_Price \u001b[0m\u001b[1m C1  \u001b[0m\u001b[1m p1   \u001b[0m\u001b[1m P1  \u001b[0m\u001b[1m U1  \u001b[0m\u001b[1m d1  \u001b[0m\u001b[1m D1  \u001b[0m\u001b[1m p_C \u001b[0m\u001b[1m p_D  \u001b[0m\u001b[1m e   \u001b[0m\n",
       "     │\u001b[90m Any  \u001b[0m\u001b[90m Any          \u001b[0m\u001b[90m Any \u001b[0m\u001b[90m Any  \u001b[0m\u001b[90m Any \u001b[0m\u001b[90m Any \u001b[0m\u001b[90m Any \u001b[0m\u001b[90m Any \u001b[0m\u001b[90m Any \u001b[0m\u001b[90m Any  \u001b[0m\u001b[90m Any \u001b[0m\n",
       "─────┼───────────────────────────────────────────────────────────────────\n",
       "   1 │ 1.0   2.0           0.0  1.0   1.0  0.0  0.0  0.0  1.0  0.0   1.0\n",
       "   2 │ 2.0   2.0           2.0  2.0   2.5  5.0  1.0  1.0  1.0  0.0   2.0\n",
       "   3 │ 3.0   2.0           0.0  -0.0  0.0  6.0  2.0  2.0  0.0  2.0   0.0\n",
       "   4 │ 4.0   4.0           3.0  2.0   2.0  4.0  2.0  2.5  0.0  -0.0  0.0\n",
       "   5 │ 5.0   3.0           2.0  1.0   1.0  0.0  0.0  0.0  1.0  0.0   1.0\n",
       "   6 │ 6.0   3.0           3.0  3.0   5.5  7.0  4.0  4.0  0.0  1.0   0.0"
      ]
     },
     "metadata": {},
     "output_type": "display_data"
    }
   ],
   "source": [
    "# Run the market clearing\n",
    "include.((\"fct_split.jl\",\"fct_mc_all.jl\",\"fct_data_all.jl\"))\n",
    "S_end = zeros(maximum(G_df.MC)) # Set the penalty to zero (no penalty)\n",
    "E_end = [false, false] # No final level\n",
    "df_MCS = split(∆t, E, E_0, η_C, η_D, P_C, P_D, G_df, L_df, E_end, S_end)"
   ]
  },
  {
   "cell_type": "markdown",
   "metadata": {},
   "source": [
    "## Market Clearing with Virtual Linking Bids"
   ]
  },
  {
   "cell_type": "code",
   "execution_count": 12,
   "metadata": {},
   "outputs": [],
   "source": [
    "# Set the level for the storage system at the end of each market interval:\n",
    "E_end = [0.5, 2.5]\n",
    "# Set a discount between 0 and 1 for the value of the stored energy (0: no discount)\n",
    "discount = 0.0\n",
    ";"
   ]
  },
  {
   "cell_type": "code",
   "execution_count": 13,
   "metadata": {},
   "outputs": [
    {
     "name": "stdout",
     "output_type": "stream",
     "text": [
      "S: [2.0]\n",
      "E_init: [0.5]\n",
      "S: [2.0, 3.0]\n",
      "E_init: [0.5, 2.0]\n",
      "SW_tot: 25.5\n",
      "surplus_gen_tot: [3.0]\n",
      "surplus_gen_sum_tot: 3.0\n",
      "surplus_load_tot: [21.5]\n",
      "surplus_stg_tot: 1.0\n",
      "\n",
      "In the inter-storage at the end of the test period: \n",
      "S: [2.0, 3.0]\n",
      "E_init: [0.5, 2.0]\n"
     ]
    },
    {
     "data": {
      "text/html": [
       "<div><div style = \"float: left;\"><span>6×13 DataFrame</span></div><div style = \"clear: both;\"></div></div><div class = \"data-frame\" style = \"overflow-x: scroll;\"><table class = \"data-frame\" style = \"margin-bottom: 6px;\"><thead><tr class = \"header\"><th class = \"rowNumber\" style = \"font-weight: bold; text-align: right;\">Row</th><th style = \"text-align: left;\">Time</th><th style = \"text-align: left;\">Market_Price</th><th style = \"text-align: left;\">C1</th><th style = \"text-align: left;\">p1</th><th style = \"text-align: left;\">P1</th><th style = \"text-align: left;\">U1</th><th style = \"text-align: left;\">d1</th><th style = \"text-align: left;\">D1</th><th style = \"text-align: left;\">p_C_intra</th><th style = \"text-align: left;\">p_D_intra</th><th style = \"text-align: left;\">e_intra</th><th style = \"text-align: left;\">p_D_inter</th><th style = \"text-align: left;\">e_inter</th></tr><tr class = \"subheader headerLastRow\"><th class = \"rowNumber\" style = \"font-weight: bold; text-align: right;\"></th><th title = \"Any\" style = \"text-align: left;\">Any</th><th title = \"Any\" style = \"text-align: left;\">Any</th><th title = \"Any\" style = \"text-align: left;\">Any</th><th title = \"Any\" style = \"text-align: left;\">Any</th><th title = \"Any\" style = \"text-align: left;\">Any</th><th title = \"Any\" style = \"text-align: left;\">Any</th><th title = \"Any\" style = \"text-align: left;\">Any</th><th title = \"Any\" style = \"text-align: left;\">Any</th><th title = \"Any\" style = \"text-align: left;\">Any</th><th title = \"Any\" style = \"text-align: left;\">Any</th><th title = \"Any\" style = \"text-align: left;\">Any</th><th title = \"Any\" style = \"text-align: left;\">Any</th><th title = \"Any\" style = \"text-align: left;\">Any</th></tr></thead><tbody><tr><td class = \"rowNumber\" style = \"font-weight: bold; text-align: right;\">1</td><td style = \"text-align: left;\">1.0</td><td style = \"text-align: left;\">2.0</td><td style = \"text-align: left;\">0.0</td><td style = \"text-align: left;\">1.0</td><td style = \"text-align: left;\">1.0</td><td style = \"text-align: left;\">0.0</td><td style = \"text-align: left;\">0.0</td><td style = \"text-align: left;\">0.0</td><td style = \"text-align: left;\">1.0</td><td style = \"text-align: left;\">0.0</td><td style = \"text-align: left;\">1.0</td><td style = \"text-align: left;\">-0.0</td><td style = \"text-align: left;\">0.0</td></tr><tr><td class = \"rowNumber\" style = \"font-weight: bold; text-align: right;\">2</td><td style = \"text-align: left;\">2.0</td><td style = \"text-align: left;\">2.0</td><td style = \"text-align: left;\">2.0</td><td style = \"text-align: left;\">2.5</td><td style = \"text-align: left;\">2.5</td><td style = \"text-align: left;\">5.0</td><td style = \"text-align: left;\">1.0</td><td style = \"text-align: left;\">1.0</td><td style = \"text-align: left;\">1.5</td><td style = \"text-align: left;\">0.0</td><td style = \"text-align: left;\">2.5</td><td style = \"text-align: left;\">0.0</td><td style = \"text-align: left;\">-0.0</td></tr><tr><td class = \"rowNumber\" style = \"font-weight: bold; text-align: right;\">3</td><td style = \"text-align: left;\">3.0</td><td style = \"text-align: left;\">6.0</td><td style = \"text-align: left;\">0.0</td><td style = \"text-align: left;\">-0.0</td><td style = \"text-align: left;\">0.0</td><td style = \"text-align: left;\">6.0</td><td style = \"text-align: left;\">2.0</td><td style = \"text-align: left;\">2.0</td><td style = \"text-align: left;\">0.0</td><td style = \"text-align: left;\">2.0</td><td style = \"text-align: left;\">0.5</td><td style = \"text-align: left;\">-0.0</td><td style = \"text-align: left;\">0.0</td></tr><tr><td class = \"rowNumber\" style = \"font-weight: bold; text-align: right;\">4</td><td style = \"text-align: left;\">4.0</td><td style = \"text-align: left;\">3.0</td><td style = \"text-align: left;\">3.0</td><td style = \"text-align: left;\">2.0</td><td style = \"text-align: left;\">2.0</td><td style = \"text-align: left;\">4.0</td><td style = \"text-align: left;\">2.5</td><td style = \"text-align: left;\">2.5</td><td style = \"text-align: left;\">0.0</td><td style = \"text-align: left;\">0.5</td><td style = \"text-align: left;\">-0.5</td><td style = \"text-align: left;\">0.0</td><td style = \"text-align: left;\">0.5</td></tr><tr><td class = \"rowNumber\" style = \"font-weight: bold; text-align: right;\">5</td><td style = \"text-align: left;\">5.0</td><td style = \"text-align: left;\">3.0</td><td style = \"text-align: left;\">2.0</td><td style = \"text-align: left;\">1.0</td><td style = \"text-align: left;\">1.0</td><td style = \"text-align: left;\">0.0</td><td style = \"text-align: left;\">0.0</td><td style = \"text-align: left;\">0.0</td><td style = \"text-align: left;\">1.0</td><td style = \"text-align: left;\">0.0</td><td style = \"text-align: left;\">0.5</td><td style = \"text-align: left;\">0.0</td><td style = \"text-align: left;\">0.5</td></tr><tr><td class = \"rowNumber\" style = \"font-weight: bold; text-align: right;\">6</td><td style = \"text-align: left;\">6.0</td><td style = \"text-align: left;\">3.0</td><td style = \"text-align: left;\">3.0</td><td style = \"text-align: left;\">5.5</td><td style = \"text-align: left;\">5.5</td><td style = \"text-align: left;\">7.0</td><td style = \"text-align: left;\">4.0</td><td style = \"text-align: left;\">4.0</td><td style = \"text-align: left;\">1.5</td><td style = \"text-align: left;\">0.0</td><td style = \"text-align: left;\">2.0</td><td style = \"text-align: left;\">0.0</td><td style = \"text-align: left;\">0.5</td></tr></tbody></table></div>"
      ],
      "text/latex": [
       "\\begin{tabular}{r|cccccccccccc}\n",
       "\t& Time & Market\\_Price & C1 & p1 & P1 & U1 & d1 & D1 & p\\_C\\_intra & p\\_D\\_intra & e\\_intra & \\\\\n",
       "\t\\hline\n",
       "\t& Any & Any & Any & Any & Any & Any & Any & Any & Any & Any & Any & \\\\\n",
       "\t\\hline\n",
       "\t1 & 1.0 & 2.0 & 0.0 & 1.0 & 1.0 & 0.0 & 0.0 & 0.0 & 1.0 & 0.0 & 1.0 & $\\dots$ \\\\\n",
       "\t2 & 2.0 & 2.0 & 2.0 & 2.5 & 2.5 & 5.0 & 1.0 & 1.0 & 1.5 & 0.0 & 2.5 & $\\dots$ \\\\\n",
       "\t3 & 3.0 & 6.0 & 0.0 & -0.0 & 0.0 & 6.0 & 2.0 & 2.0 & 0.0 & 2.0 & 0.5 & $\\dots$ \\\\\n",
       "\t4 & 4.0 & 3.0 & 3.0 & 2.0 & 2.0 & 4.0 & 2.5 & 2.5 & 0.0 & 0.5 & -0.5 & $\\dots$ \\\\\n",
       "\t5 & 5.0 & 3.0 & 2.0 & 1.0 & 1.0 & 0.0 & 0.0 & 0.0 & 1.0 & 0.0 & 0.5 & $\\dots$ \\\\\n",
       "\t6 & 6.0 & 3.0 & 3.0 & 5.5 & 5.5 & 7.0 & 4.0 & 4.0 & 1.5 & 0.0 & 2.0 & $\\dots$ \\\\\n",
       "\\end{tabular}\n"
      ],
      "text/plain": [
       "\u001b[1m6×13 DataFrame\u001b[0m\n",
       "\u001b[1m Row \u001b[0m│\u001b[1m Time \u001b[0m\u001b[1m Market_Price \u001b[0m\u001b[1m C1  \u001b[0m\u001b[1m p1   \u001b[0m\u001b[1m P1  \u001b[0m\u001b[1m U1  \u001b[0m\u001b[1m d1  \u001b[0m\u001b[1m D1  \u001b[0m\u001b[1m p_C_intra \u001b[0m\u001b[1m p_D_intra\u001b[0m ⋯\n",
       "     │\u001b[90m Any  \u001b[0m\u001b[90m Any          \u001b[0m\u001b[90m Any \u001b[0m\u001b[90m Any  \u001b[0m\u001b[90m Any \u001b[0m\u001b[90m Any \u001b[0m\u001b[90m Any \u001b[0m\u001b[90m Any \u001b[0m\u001b[90m Any       \u001b[0m\u001b[90m Any      \u001b[0m ⋯\n",
       "─────┼──────────────────────────────────────────────────────────────────────────\n",
       "   1 │ 1.0   2.0           0.0  1.0   1.0  0.0  0.0  0.0  1.0        0.0       ⋯\n",
       "   2 │ 2.0   2.0           2.0  2.5   2.5  5.0  1.0  1.0  1.5        0.0\n",
       "   3 │ 3.0   6.0           0.0  -0.0  0.0  6.0  2.0  2.0  0.0        2.0\n",
       "   4 │ 4.0   3.0           3.0  2.0   2.0  4.0  2.5  2.5  0.0        0.5\n",
       "   5 │ 5.0   3.0           2.0  1.0   1.0  0.0  0.0  0.0  1.0        0.0       ⋯\n",
       "   6 │ 6.0   3.0           3.0  5.5   5.5  7.0  4.0  4.0  1.5        0.0\n",
       "\u001b[36m                                                               3 columns omitted\u001b[0m"
      ]
     },
     "metadata": {},
     "output_type": "display_data"
    }
   ],
   "source": [
    "# Initial storage values\n",
    "E_init_inter = [0.0] # Level of storage initialized to 0 (storage empty)\n",
    "S_init = [0.0] # Value of stored energy initialized to 0 (storage empty)\n",
    "\n",
    "include.((\"fct_vlb.jl\",\"fct_mc_vlb.jl\",\"fct_stor_val_update.jl\",\"fct_data_all.jl\"))\n",
    "df_VLB = VLB_no_bin(∆t, E, η_C, η_D, P_C, P_D, G_df, L_df, E_end, E_init_inter, S_init, discount)"
   ]
  }
 ],
 "metadata": {
  "kernelspec": {
   "display_name": "Julia 1.11.4",
   "language": "julia",
   "name": "julia-1.11"
  },
  "language_info": {
   "file_extension": ".jl",
   "mimetype": "application/julia",
   "name": "julia",
   "version": "1.11.4"
  },
  "orig_nbformat": 4
 },
 "nbformat": 4,
 "nbformat_minor": 2
}
