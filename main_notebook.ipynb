{
 "cells": [
  {
   "cell_type": "markdown",
   "metadata": {},
   "source": [
    "# Virtual Linking Bids for Market-Clearing with Non-Merchant Storage"
   ]
  },
  {
   "cell_type": "markdown",
   "metadata": {},
   "source": [
    "This is the code for the paper \"Virtual Linking Bids for Market-Clearing with Non-Merchant Storage\". Different types of market clearing setups can be run and compared, including the examples presented in the paper. The code was written for Julia v1.8."
   ]
  },
  {
   "cell_type": "code",
   "execution_count": null,
   "metadata": {},
   "outputs": [],
   "source": [
    "# Include the relevant packages\n",
    "using CSV, DataFrames\n",
    "using JuMP, HiGHS"
   ]
  },
  {
   "cell_type": "markdown",
   "metadata": {},
   "source": [
    "The different parameters can be updated in the csv files \"data_gen.csv\" and \"data_load.csv\" and below:"
   ]
  },
  {
   "cell_type": "code",
   "execution_count": null,
   "metadata": {},
   "outputs": [],
   "source": [
    "## MARKET DATA\n",
    "# Duration of time periods (in hours):\n",
    "∆t = 1\n",
    "\n",
    "## STORAGE DATA\n",
    "# Storage capacity (MWh)\n",
    "E = 2.5 \n",
    "# Initial state of energy (MWh)\n",
    "E_0 = 0.0 \n",
    ";"
   ]
  },
  {
   "cell_type": "code",
   "execution_count": null,
   "metadata": {},
   "outputs": [],
   "source": [
    "# Dataframes are created from the csv files for generators:\n",
    "G_df = CSV.read(\"data_gen.csv\", DataFrame)"
   ]
  },
  {
   "cell_type": "code",
   "execution_count": null,
   "metadata": {},
   "outputs": [],
   "source": [
    "# And loads:\n",
    "L_df = CSV.read(\"data_load.csv\", DataFrame)"
   ]
  },
  {
   "cell_type": "markdown",
   "metadata": {},
   "source": [
    "## Ideal Market Clearing"
   ]
  },
  {
   "cell_type": "code",
   "execution_count": null,
   "metadata": {},
   "outputs": [],
   "source": [
    "# Set the level for the storage system at the end of the test period:\n",
    "E_final = 0.0\n",
    ";"
   ]
  },
  {
   "cell_type": "code",
   "execution_count": null,
   "metadata": {},
   "outputs": [],
   "source": [
    "# Run the market clearing\n",
    "include.((\"fct_perfect.jl\",\"fct_mc_all.jl\",\"fct_data_all.jl\"))\n",
    "df_MCP = perfect(∆t, E, E_0, E_final, G_df, L_df)"
   ]
  },
  {
   "cell_type": "markdown",
   "metadata": {},
   "source": [
    "## Split Market Clearing with Level"
   ]
  },
  {
   "cell_type": "code",
   "execution_count": null,
   "metadata": {},
   "outputs": [],
   "source": [
    "# Set the level for the storage system at the end of each market interval:\n",
    "E_end = [1.0, 0.0]\n",
    ";"
   ]
  },
  {
   "cell_type": "code",
   "execution_count": null,
   "metadata": {},
   "outputs": [],
   "source": [
    "# Run the market clearing\n",
    "include.((\"fct_split.jl\",\"fct_mc_all.jl\",\"fct_data_all.jl\"))\n",
    "S_end = zeros(maximum(G_df.MI)) # Set the penalty to zero (no penalty)\n",
    "df_MCS = split(∆t, E, E_0, G_df, L_df, E_end, S_end)"
   ]
  },
  {
   "cell_type": "markdown",
   "metadata": {},
   "source": [
    "## Split Market Clearing with Penalty"
   ]
  },
  {
   "cell_type": "code",
   "execution_count": null,
   "metadata": {},
   "outputs": [],
   "source": [
    "# Set the penalty for the storage system at the end of each market interval:\n",
    "S_end = [2, 0]\n",
    ";"
   ]
  },
  {
   "cell_type": "code",
   "execution_count": null,
   "metadata": {},
   "outputs": [],
   "source": [
    "# Run the market clearing\n",
    "include.((\"fct_split.jl\",\"fct_mc_all.jl\",\"fct_data_all.jl\"))\n",
    "E_end = zeros(maximum(G_df.MI)) # Set the penalty to zero (no penalty)\n",
    "df_MCS = split(∆t, E, E_0, G_df, L_df, E_end, S_end)"
   ]
  },
  {
   "cell_type": "markdown",
   "metadata": {},
   "source": [
    "## Market Clearing with Virtual Linking Bids"
   ]
  },
  {
   "cell_type": "code",
   "execution_count": null,
   "metadata": {},
   "outputs": [],
   "source": [
    "# Set the level for the storage system at the end of each market interval:\n",
    "E_end = [1.0, 0.0]\n",
    "# Set a discount between 0 and 1 for the value of the stored energy (0: no discount)\n",
    "discount = 0\n",
    ";"
   ]
  },
  {
   "cell_type": "code",
   "execution_count": null,
   "metadata": {},
   "outputs": [],
   "source": [
    "# Version with solution multiplicity\n",
    "include.((\"fct_vlb.jl\",\"fct_mc_vlb.jl\",\"fct_stor_val_update.jl\",\"fct_data_all.jl\"))\n",
    "df_VLB = VLB_no_bin(∆t, E, G_df, L_df, E_end, discount)"
   ]
  },
  {
   "cell_type": "code",
   "execution_count": null,
   "metadata": {},
   "outputs": [],
   "source": [
    "# Version without solution multiplicity (binary variables)\n",
    "include.((\"fct_vlb_bin.jl\",\"fct_mc_vlb_bin.jl\",\"fct_mc_vlb_no_bin.jl\",\"fct_stor_val_update.jl\",\"fct_data_all.jl\"))\n",
    "df_VLB_bin = VLB_bin(∆t, E, G_df, L_df, E_end, discount)"
   ]
  }
 ],
 "metadata": {
  "kernelspec": {
   "display_name": "Julia 1.8.5",
   "language": "julia",
   "name": "julia-1.8"
  },
  "language_info": {
   "file_extension": ".jl",
   "mimetype": "application/julia",
   "name": "julia",
   "version": "1.8.5"
  },
  "orig_nbformat": 4
 },
 "nbformat": 4,
 "nbformat_minor": 2
}
